{
 "cells": [
  {
   "cell_type": "markdown",
   "metadata": {},
   "source": [
    "# Section 1"
   ]
  },
  {
   "cell_type": "markdown",
   "metadata": {},
   "source": [
    "## Numbers"
   ]
  },
  {
   "cell_type": "markdown",
   "metadata": {},
   "source": [
    "### Fahrenheit to Celsius"
   ]
  },
  {
   "cell_type": "markdown",
   "metadata": {},
   "source": [
    "1. Create a variable `fahrenheit` which stores the current temperature in Zurich in Fahrenheit (Google: \"zurich temperature fahrenheit\"). \n",
    "2. The formula to convert Fahrenheit to Celsius is: $C = (5/9)(F-32)$. Create a new variable `celsius` which converts Fahrenheit to Celsius using this formula. \n",
    "3. Print out the variable using the `print` function. "
   ]
  },
  {
   "cell_type": "code",
   "execution_count": 1,
   "metadata": {},
   "outputs": [
    {
     "name": "stdout",
     "output_type": "stream",
     "text": [
      "The temperature in Celsius is: 27.77777777777778\n"
     ]
    }
   ],
   "source": [
    "fahrenheit = 82 \n",
    "celsius = (5/9) * (fahrenheit - 32)\n",
    "print(\"The temperature in Celsius is:\", celsius)"
   ]
  },
  {
   "cell_type": "markdown",
   "metadata": {},
   "source": [
    "## Strings"
   ]
  },
  {
   "cell_type": "markdown",
   "metadata": {},
   "source": [
    "### String theory"
   ]
  },
  {
   "cell_type": "markdown",
   "metadata": {},
   "source": [
    "Consider the (slightly altered) transcript of an xkcd comic:\n",
    "\n",
    "`String Theory summarized: I just had an awesome idea. Suppose all matter and energy is made of tiny, vibrating \"strings\". Okay ... what would that imply? I dunno.`"
   ]
  },
  {
   "cell_type": "markdown",
   "metadata": {},
   "source": [
    "1. Store this transcript as a string in the variable `xkcd`. Print it out using the `print` function. \n",
    "2. How long is the string in total? \n",
    "3. Extract the first character of the second word. \n",
    "4. Extract the first word, the second word and the last word separately using slicing and store them in the variables `xkcd_1`, `xkcd_2` and `xkcd_last`. Print out `xkcd_1` and `xkcd_2` together. \n",
    "5. How would the string read backwards?\n",
    "6. Count how often the word 'I' is used in this string. \n",
    "7. Split the string at every dot and store the resulting list in the variable `xkcd_list`. Print this list out. \n",
    "8. Join the strings in the list `xkcd_list` using the dot as a separator argument and assign them to a variable `xkcd_rejoined`. Print the variable out. \n",
    "9. Replace the word 'strings' with the word 'ducks' in `xkcd` and store the result in the variable `duck_theory`. Replace the word 'String' with the word 'Duck' in `duck_theory` and store the result again in the variable `duck_theory`. Print it out. "
   ]
  },
  {
   "cell_type": "markdown",
   "metadata": {},
   "source": [
    "#### 1) "
   ]
  },
  {
   "cell_type": "code",
   "execution_count": 2,
   "metadata": {
    "collapsed": true
   },
   "outputs": [],
   "source": [
    "xkcd = ('String Theory summarized: I just had an awesome idea. Suppose all matter and energy is made of tiny, '\n",
    "       'vibrating \"strings\". Okay ... what would that imply? I dunno.')"
   ]
  },
  {
   "cell_type": "markdown",
   "metadata": {},
   "source": [
    "#### 2)"
   ]
  },
  {
   "cell_type": "code",
   "execution_count": 3,
   "metadata": {},
   "outputs": [
    {
     "data": {
      "text/plain": [
       "162"
      ]
     },
     "execution_count": 3,
     "metadata": {},
     "output_type": "execute_result"
    }
   ],
   "source": [
    "len(xkcd)"
   ]
  },
  {
   "cell_type": "markdown",
   "metadata": {},
   "source": [
    "#### 3)"
   ]
  },
  {
   "cell_type": "code",
   "execution_count": 4,
   "metadata": {},
   "outputs": [
    {
     "data": {
      "text/plain": [
       "'T'"
      ]
     },
     "execution_count": 4,
     "metadata": {},
     "output_type": "execute_result"
    }
   ],
   "source": [
    "xkcd[7]"
   ]
  },
  {
   "cell_type": "markdown",
   "metadata": {},
   "source": [
    "#### 4)"
   ]
  },
  {
   "cell_type": "code",
   "execution_count": 5,
   "metadata": {},
   "outputs": [
    {
     "name": "stdout",
     "output_type": "stream",
     "text": [
      "String\n"
     ]
    }
   ],
   "source": [
    "xkcd_1 = xkcd[:6] \n",
    "print(xkcd_1)"
   ]
  },
  {
   "cell_type": "code",
   "execution_count": 6,
   "metadata": {},
   "outputs": [
    {
     "name": "stdout",
     "output_type": "stream",
     "text": [
      "Theory \n"
     ]
    }
   ],
   "source": [
    "xkcd_2 = xkcd[7:14]\n",
    "print(xkcd_2)"
   ]
  },
  {
   "cell_type": "code",
   "execution_count": 7,
   "metadata": {},
   "outputs": [
    {
     "name": "stdout",
     "output_type": "stream",
     "text": [
      "dunno\n"
     ]
    }
   ],
   "source": [
    "xkcd_last = xkcd[-6:-1]\n",
    "print(xkcd_last)"
   ]
  },
  {
   "cell_type": "code",
   "execution_count": 8,
   "metadata": {},
   "outputs": [
    {
     "name": "stdout",
     "output_type": "stream",
     "text": [
      "String Theory \n"
     ]
    }
   ],
   "source": [
    "print(xkcd_1, xkcd_2) "
   ]
  },
  {
   "cell_type": "code",
   "execution_count": 9,
   "metadata": {},
   "outputs": [
    {
     "name": "stdout",
     "output_type": "stream",
     "text": [
      "String Theory \n"
     ]
    }
   ],
   "source": [
    "xkcd_combined = xkcd_1 + ' ' + xkcd_2 \n",
    "print(xkcd_combined)"
   ]
  },
  {
   "cell_type": "markdown",
   "metadata": {},
   "source": [
    "#### 5)"
   ]
  },
  {
   "cell_type": "code",
   "execution_count": 10,
   "metadata": {},
   "outputs": [
    {
     "name": "stdout",
     "output_type": "stream",
     "text": [
      ".onnud I ?ylpmi taht dluow tahw ... yakO .\"sgnirts\" gnitarbiv ,ynit fo edam si ygrene dna rettam lla esoppuS .aedi emosewa na dah tsuj I :dezirammus yroehT gnirtS\n"
     ]
    }
   ],
   "source": [
    "print(xkcd[::-1])"
   ]
  },
  {
   "cell_type": "markdown",
   "metadata": {},
   "source": [
    "#### 6)"
   ]
  },
  {
   "cell_type": "code",
   "execution_count": 11,
   "metadata": {},
   "outputs": [
    {
     "data": {
      "text/plain": [
       "2"
      ]
     },
     "execution_count": 11,
     "metadata": {},
     "output_type": "execute_result"
    }
   ],
   "source": [
    "xkcd.count('I')"
   ]
  },
  {
   "cell_type": "markdown",
   "metadata": {},
   "source": [
    "#### 7)"
   ]
  },
  {
   "cell_type": "code",
   "execution_count": 12,
   "metadata": {},
   "outputs": [
    {
     "data": {
      "text/plain": [
       "['String Theory summarized: I just had an awesome idea',\n",
       " ' Suppose all matter and energy is made of tiny, vibrating \"strings\"',\n",
       " ' Okay ',\n",
       " '',\n",
       " '',\n",
       " ' what would that imply? I dunno',\n",
       " '']"
      ]
     },
     "execution_count": 12,
     "metadata": {},
     "output_type": "execute_result"
    }
   ],
   "source": [
    "xkcd.split('.')"
   ]
  },
  {
   "cell_type": "code",
   "execution_count": 13,
   "metadata": {},
   "outputs": [
    {
     "name": "stdout",
     "output_type": "stream",
     "text": [
      "String Theory summarized: I just had an awesome idea. Suppose all matter and energy is made of tiny, vibrating \"strings\". Okay ... what would that imply? I dunno.\n"
     ]
    }
   ],
   "source": [
    "xkcd_list = xkcd.split('.')\n",
    "xkcd_rejoined = '.'.join(xkcd_list)\n",
    "print(xkcd_rejoined)"
   ]
  },
  {
   "cell_type": "markdown",
   "metadata": {},
   "source": [
    "#### 9)"
   ]
  },
  {
   "cell_type": "code",
   "execution_count": 14,
   "metadata": {},
   "outputs": [
    {
     "name": "stdout",
     "output_type": "stream",
     "text": [
      "Duck Theory summarized: I just had an awesome idea. Suppose all matter and energy is made of tiny, vibrating \"ducks\". Okay ... what would that imply? I dunno.\n"
     ]
    }
   ],
   "source": [
    "duck_theory = xkcd.replace('strings', 'ducks')\n",
    "duck_theory = duck_theory.replace('String', 'Duck')\n",
    "print(duck_theory)"
   ]
  },
  {
   "cell_type": "markdown",
   "metadata": {},
   "source": [
    "# Section 2"
   ]
  },
  {
   "cell_type": "markdown",
   "metadata": {},
   "source": [
    "## Lists"
   ]
  },
  {
   "cell_type": "markdown",
   "metadata": {},
   "source": [
    "### Operating Systems"
   ]
  },
  {
   "cell_type": "markdown",
   "metadata": {},
   "source": [
    "1. Create a list of the 'founding fathers' of today's existing operating systems / companies: Linus Torvalds, Bill Gates, and Steve Jobs. Call it `founders`. Print it out. \n",
    "2. You realize that Steve Jobs shouldn't be on that list. Instead you want Steve Wozniak on the list. Change the list by removing Steve Jobs and adding Steve Wozniak. Print it out. \n",
    "3. Sort the list alphabetically. \n",
    "4. Create another list, `os_list`, with the names of the operating systems: `OS X`, `Windows`, and `Linux`.\n",
    "5. Combine the two lists in a new list called `modern_pc`. \n",
    "6. How would you test whether `FreeBSD` is in `modern_pc`? "
   ]
  },
  {
   "cell_type": "markdown",
   "metadata": {},
   "source": [
    "#### 1)"
   ]
  },
  {
   "cell_type": "code",
   "execution_count": 15,
   "metadata": {},
   "outputs": [
    {
     "name": "stdout",
     "output_type": "stream",
     "text": [
      "['Linus Torvalds', 'Bill Gates', 'Steve Jobs']\n"
     ]
    }
   ],
   "source": [
    "founders = ['Linus Torvalds', 'Bill Gates', 'Steve Jobs']\n",
    "print(founders)"
   ]
  },
  {
   "cell_type": "markdown",
   "metadata": {},
   "source": [
    "#### 2)"
   ]
  },
  {
   "cell_type": "code",
   "execution_count": 16,
   "metadata": {},
   "outputs": [
    {
     "name": "stdout",
     "output_type": "stream",
     "text": [
      "['Linus Torvalds', 'Bill Gates', 'Steve Wozniak']\n"
     ]
    }
   ],
   "source": [
    "founders[2] = 'Steve Wozniak'\n",
    "print(founders)"
   ]
  },
  {
   "cell_type": "markdown",
   "metadata": {},
   "source": [
    "#### 3)"
   ]
  },
  {
   "cell_type": "code",
   "execution_count": 17,
   "metadata": {},
   "outputs": [
    {
     "name": "stdout",
     "output_type": "stream",
     "text": [
      "['Bill Gates', 'Linus Torvalds', 'Steve Wozniak']\n"
     ]
    }
   ],
   "source": [
    "founders.sort()\n",
    "print(founders)"
   ]
  },
  {
   "cell_type": "code",
   "execution_count": 18,
   "metadata": {},
   "outputs": [
    {
     "name": "stdout",
     "output_type": "stream",
     "text": [
      "Help on method_descriptor:\n",
      "\n",
      "sort(...)\n",
      "    L.sort(key=None, reverse=False) -> None -- stable sort *IN PLACE*\n",
      "\n"
     ]
    }
   ],
   "source": [
    "help(list.sort)"
   ]
  },
  {
   "cell_type": "markdown",
   "metadata": {},
   "source": [
    "#### 4)"
   ]
  },
  {
   "cell_type": "code",
   "execution_count": 19,
   "metadata": {
    "collapsed": true
   },
   "outputs": [],
   "source": [
    "os_list = ['OS X', 'Windows', 'Linux']"
   ]
  },
  {
   "cell_type": "markdown",
   "metadata": {},
   "source": [
    "#### 5)"
   ]
  },
  {
   "cell_type": "code",
   "execution_count": 20,
   "metadata": {
    "collapsed": true
   },
   "outputs": [],
   "source": [
    "modern_pc = founders + os_list"
   ]
  },
  {
   "cell_type": "code",
   "execution_count": 21,
   "metadata": {},
   "outputs": [
    {
     "name": "stdout",
     "output_type": "stream",
     "text": [
      "['Bill Gates', 'Linus Torvalds', 'Steve Wozniak', 'OS X', 'Windows', 'Linux']\n"
     ]
    }
   ],
   "source": [
    "print(modern_pc)"
   ]
  },
  {
   "cell_type": "markdown",
   "metadata": {},
   "source": [
    "#### 6)"
   ]
  },
  {
   "cell_type": "code",
   "execution_count": 22,
   "metadata": {},
   "outputs": [
    {
     "data": {
      "text/plain": [
       "False"
      ]
     },
     "execution_count": 22,
     "metadata": {},
     "output_type": "execute_result"
    }
   ],
   "source": [
    "'FreeBSD' in modern_pc"
   ]
  },
  {
   "cell_type": "markdown",
   "metadata": {},
   "source": [
    "## Tuples"
   ]
  },
  {
   "cell_type": "markdown",
   "metadata": {},
   "source": [
    "### Boring but necessary"
   ]
  },
  {
   "cell_type": "markdown",
   "metadata": {},
   "source": [
    "1. Create a tuple which contains the name of your favorite band. Call it `my_favorite_band`. Check whether it is a tuple.\n",
    "2. Create a tuple called `record` which contains your name, your address and your email contact as elements. Use tuple unpacking to assign the three elements in this tuple to the variables `name`, `address` and `email`.  "
   ]
  },
  {
   "cell_type": "markdown",
   "metadata": {},
   "source": [
    "#### 1)"
   ]
  },
  {
   "cell_type": "code",
   "execution_count": 23,
   "metadata": {
    "collapsed": true
   },
   "outputs": [],
   "source": [
    "# you need the trailing comma\n",
    "my_favorite_band = 'The National',"
   ]
  },
  {
   "cell_type": "markdown",
   "metadata": {},
   "source": [
    "#### 2)"
   ]
  },
  {
   "cell_type": "code",
   "execution_count": 24,
   "metadata": {
    "collapsed": true
   },
   "outputs": [],
   "source": [
    "record = ('Julian Langer', 'Langstrasse 81', 'julian.langer@econ.uzh.ch')"
   ]
  },
  {
   "cell_type": "markdown",
   "metadata": {},
   "source": [
    "#### 3)"
   ]
  },
  {
   "cell_type": "code",
   "execution_count": 25,
   "metadata": {
    "collapsed": true
   },
   "outputs": [],
   "source": [
    "# tuple unpacking\n",
    "name, address, email = record"
   ]
  },
  {
   "cell_type": "code",
   "execution_count": 26,
   "metadata": {},
   "outputs": [
    {
     "name": "stdout",
     "output_type": "stream",
     "text": [
      "Julian Langer\n"
     ]
    }
   ],
   "source": [
    "print(name)"
   ]
  },
  {
   "cell_type": "markdown",
   "metadata": {},
   "source": [
    "## Dictionaries"
   ]
  },
  {
   "cell_type": "markdown",
   "metadata": {},
   "source": [
    "### Explain a Film Plot Badly"
   ]
  },
  {
   "cell_type": "markdown",
   "metadata": {},
   "source": [
    "The __descriptions__ are: \n",
    "+ `Teenager recruited to a terrorist organization destroys govt facility killing thousands.`\n",
    "+ `Professor has unusually productive sabbatical.`\n",
    "+ `Paranoid billionaire afraid of immigrant.`\n",
    "+ `Rare endangered aquatic creature murdered by small town blue collar sheriff.`\n",
    "\n",
    "The __movies__ are: \n",
    "+ `Batman v Superman`\n",
    "+ `Jaws`\n",
    "+ `Indiana Jones`\n",
    "+ `Star Wars`"
   ]
  },
  {
   "cell_type": "markdown",
   "metadata": {},
   "source": [
    "1. Order movies and descriptions correctly and put them in a dictionary called `movie_descriptions`, where movie titles are used as keys.\n",
    "2. Print out the description for `Jaws`. \n",
    "3. We think there is a better description for `Star Wars`. Change it to the following: `Deadbeat dad tries to get his son to take over the family business.`\n",
    "4. Print out all movie titles and descriptions separately. \n",
    "5. Store all items from `movie_descriptions` in a list called `bad_descriptions`. "
   ]
  },
  {
   "cell_type": "markdown",
   "metadata": {},
   "source": [
    "#### 1) "
   ]
  },
  {
   "cell_type": "code",
   "execution_count": 3,
   "metadata": {
    "collapsed": true
   },
   "outputs": [],
   "source": [
    "movie_descriptions = { 'Batman v Superman' : 'Paranoid billionaire afraid of immigrant.',\n",
    "                     'Jaws' : 'Rare endangered aquatic creature murdered by small town blue collar sheriff.',\n",
    "                     'Indiana Jones' : 'Professor has unusually productive sabbatical.',\n",
    "                     'Star Wars' : 'Teenager recruited to a terrorist organization destroys govt facility killing thousands.'}"
   ]
  },
  {
   "cell_type": "markdown",
   "metadata": {},
   "source": [
    "#### 2)"
   ]
  },
  {
   "cell_type": "code",
   "execution_count": 4,
   "metadata": {},
   "outputs": [
    {
     "name": "stdout",
     "output_type": "stream",
     "text": [
      "Rare endangered aquatic creature murdered by small town blue collar sheriff.\n"
     ]
    }
   ],
   "source": [
    "print(movie_descriptions['Jaws'])"
   ]
  },
  {
   "cell_type": "markdown",
   "metadata": {},
   "source": [
    "#### 3)"
   ]
  },
  {
   "cell_type": "code",
   "execution_count": 6,
   "metadata": {},
   "outputs": [
    {
     "name": "stdout",
     "output_type": "stream",
     "text": [
      "{'Batman v Superman': 'Paranoid billionaire afraid of immigrant.', 'Jaws': 'Rare endangered aquatic creature murdered by small town blue collar sheriff.', 'Indiana Jones': 'Professor has unusually productive sabbatical.', 'Star Wars': 'Deadbeat dad tries to get his son to take over the family business.'}\n"
     ]
    }
   ],
   "source": [
    "movie_descriptions['Star Wars'] = 'Deadbeat dad tries to get his son to take over the family business.'\n",
    "print(movie_descriptions)"
   ]
  },
  {
   "cell_type": "markdown",
   "metadata": {},
   "source": [
    "#### 4)"
   ]
  },
  {
   "cell_type": "code",
   "execution_count": 7,
   "metadata": {},
   "outputs": [
    {
     "name": "stdout",
     "output_type": "stream",
     "text": [
      "dict_keys(['Batman v Superman', 'Jaws', 'Indiana Jones', 'Star Wars'])\n"
     ]
    }
   ],
   "source": [
    "print(movie_descriptions.keys())"
   ]
  },
  {
   "cell_type": "code",
   "execution_count": 8,
   "metadata": {},
   "outputs": [
    {
     "name": "stdout",
     "output_type": "stream",
     "text": [
      "dict_values(['Paranoid billionaire afraid of immigrant.', 'Rare endangered aquatic creature murdered by small town blue collar sheriff.', 'Professor has unusually productive sabbatical.', 'Deadbeat dad tries to get his son to take over the family business.'])\n"
     ]
    }
   ],
   "source": [
    "print(movie_descriptions.values())"
   ]
  },
  {
   "cell_type": "markdown",
   "metadata": {},
   "source": [
    "#### 5)"
   ]
  },
  {
   "cell_type": "code",
   "execution_count": 32,
   "metadata": {
    "collapsed": true
   },
   "outputs": [],
   "source": [
    "bad_descriptions = list(movie_descriptions.items())"
   ]
  },
  {
   "cell_type": "code",
   "execution_count": 33,
   "metadata": {},
   "outputs": [
    {
     "name": "stdout",
     "output_type": "stream",
     "text": [
      "[('Batman v Superman', 'Paranoid billionaire afraid of immigrant.'), ('Jaws', 'Rare endangered aquatic creature murdered by small town blue collar sheriff.'), ('Star Wars', 'Deadbeat dad tries to get his son to take over the family business.'), ('Indiana Jones', 'Professor has unusually productive sabbatical.')]\n"
     ]
    }
   ],
   "source": [
    "print(bad_descriptions)"
   ]
  },
  {
   "cell_type": "markdown",
   "metadata": {},
   "source": [
    "As you can see, if you convert the items of the dictionary into a list, it becomes a list of 2-element tuples. Note that you need the `items` method here, otherwise the list would just contain the keys. "
   ]
  },
  {
   "cell_type": "markdown",
   "metadata": {},
   "source": [
    "# Section 3"
   ]
  },
  {
   "cell_type": "markdown",
   "metadata": {},
   "source": [
    "## Guess a number (from Lubovic)"
   ]
  },
  {
   "cell_type": "markdown",
   "metadata": {},
   "source": [
    "1. Create a variable `my_number` with your favorite number between 1 and 10. \n",
    "2. Create a second variable `guess` for which you can choose an arbitrary number between 1 and 10. \n",
    "2. Write an if-else structure which prints out `Too low.` if the guess is lower than your favorite number, `Too high` if the guess is higher than your favorite number and `Just right.` if it is exactly equal to your favorite number. "
   ]
  },
  {
   "cell_type": "code",
   "execution_count": 1,
   "metadata": {},
   "outputs": [
    {
     "name": "stdout",
     "output_type": "stream",
     "text": [
      "Too low.\n"
     ]
    }
   ],
   "source": [
    "my_number = 7\n",
    "guess = 5\n",
    "\n",
    "if guess < my_number: \n",
    "    print('Too low.')\n",
    "elif guess > my_number: \n",
    "    print('Too high.')\n",
    "else: \n",
    "    print('Just right!')"
   ]
  },
  {
   "cell_type": "markdown",
   "metadata": {},
   "source": [
    "## Guess a number 2.0 (from Lubovic) "
   ]
  },
  {
   "cell_type": "markdown",
   "metadata": {},
   "source": [
    "1. Create a variable `my_number` with your favorite number between 1 and 20.\n",
    "2. Write a while loop which prompts the reader to input a number between 1 and 20 and store it as `my_guess`. At each iteration the while loop should evaluate whether the guess is still `False`. Moreover, if the number is too low, Python should print this out and similarly for the case where the number is too high. When the correct number is entered, Python should print out `Found it!` and exit the loop."
   ]
  },
  {
   "cell_type": "code",
   "execution_count": 3,
   "metadata": {},
   "outputs": [
    {
     "name": "stdout",
     "output_type": "stream",
     "text": [
      "Please enter a number between 1 and 20:21\n",
      "Out of range.\n",
      "Please enter a number between 1 and 20:13\n",
      "Guess is too low!\n",
      "Please enter a number between 1 and 20:16\n",
      "Guess is too low!\n",
      "Please enter a number between 1 and 20:18\n",
      "Guess is too high!\n",
      "Please enter a number between 1 and 20:17\n",
      "Found it!\n"
     ]
    }
   ],
   "source": [
    "my_number = 17\n",
    "guess = False\n",
    "\n",
    "\n",
    "while guess == False:\n",
    "    my_guess = int(input('Please enter a number between 1 and 20:'))\n",
    "    \n",
    "    if my_guess < 1 or my_guess > 20:\n",
    "        print('Out of range.')\n",
    "        continue\n",
    "    \n",
    "    if my_guess > my_number: \n",
    "        print('Guess is too high!')\n",
    "    elif my_guess < my_number: \n",
    "        print('Guess is too low!')\n",
    "    else:\n",
    "        print('Found it!')\n",
    "        guess = True"
   ]
  },
  {
   "cell_type": "markdown",
   "metadata": {},
   "source": [
    "## `while` vs. `for` "
   ]
  },
  {
   "cell_type": "markdown",
   "metadata": {},
   "source": [
    "1. Write down your favorite line from a song and store it in a string called `my_line`. \n",
    "2. Split the string into single words and store the results in a list called `lyrics_list`. \n",
    "3. Write a while loop and a for loop which iterate through the list and reconstruct the original string. \n",
    "4. After the end of the loop, the line should be printed out again. "
   ]
  },
  {
   "cell_type": "code",
   "execution_count": 2,
   "metadata": {},
   "outputs": [
    {
     "name": "stdout",
     "output_type": "stream",
     "text": [
      "['We', \"don't\", 'need', 'no', 'education.']\n"
     ]
    }
   ],
   "source": [
    "my_line = \"We don't need no education.\"\n",
    "lyrics_list = my_line.split(' ')\n",
    "print(lyrics_list)"
   ]
  },
  {
   "cell_type": "code",
   "execution_count": 5,
   "metadata": {},
   "outputs": [
    {
     "name": "stdout",
     "output_type": "stream",
     "text": [
      " We\n",
      " We don't\n",
      " We don't need\n",
      " We don't need no\n",
      " We don't need no education.\n"
     ]
    }
   ],
   "source": [
    "current = 0\n",
    "lyrics = ''\n",
    "while current < len(lyrics_list): \n",
    "    lyrics = lyrics + ' ' + lyrics_list[current]\n",
    "    current += 1\n",
    "    print(lyrics)"
   ]
  },
  {
   "cell_type": "code",
   "execution_count": 4,
   "metadata": {},
   "outputs": [
    {
     "name": "stdout",
     "output_type": "stream",
     "text": [
      " We\n",
      " We don't\n",
      " We don't need\n",
      " We don't need no\n",
      " We don't need no education.\n"
     ]
    }
   ],
   "source": [
    "lyrics = ''\n",
    "for word in lyrics_list:\n",
    "    lyrics = lyrics + ' ' + word\n",
    "    print(lyrics)"
   ]
  },
  {
   "cell_type": "markdown",
   "metadata": {},
   "source": [
    "## `zip` and dictionaries (from Lubovic) "
   ]
  },
  {
   "cell_type": "markdown",
   "metadata": {},
   "source": [
    "1. Use `zip` to make a dictionary called `movies` that pairs these lists: `titles = ['Creature of Habit', 'Crewel Fate']` and `plots = ['A nun turns into a monster', 'A haunted yarn shop']`. "
   ]
  },
  {
   "cell_type": "code",
   "execution_count": 8,
   "metadata": {},
   "outputs": [
    {
     "name": "stdout",
     "output_type": "stream",
     "text": [
      "{'Creature of Habit': 'A nun turns into a monster', 'Crewel Fate': 'A haunted yarn shop'}\n"
     ]
    }
   ],
   "source": [
    "titles = ['Creature of Habit', 'Crewel Fate']\n",
    "plots = ['A nun turns into a monster', 'A haunted yarn shop']\n",
    "movies = {}\n",
    "\n",
    "for title, plot in zip(titles, plots): \n",
    "    movies[title] = plot\n",
    "\n",
    "print(movies)"
   ]
  },
  {
   "cell_type": "markdown",
   "metadata": {},
   "source": [
    "## Sequences "
   ]
  },
  {
   "cell_type": "markdown",
   "metadata": {},
   "source": [
    "1. Use a for-loop to print the values from +5 to -5. "
   ]
  },
  {
   "cell_type": "code",
   "execution_count": 7,
   "metadata": {},
   "outputs": [
    {
     "name": "stdout",
     "output_type": "stream",
     "text": [
      "5\n",
      "4\n",
      "3\n",
      "2\n",
      "1\n",
      "0\n",
      "-1\n",
      "-2\n",
      "-3\n",
      "-4\n",
      "-5\n"
     ]
    }
   ],
   "source": [
    "for number in range(5, -6, -1):\n",
    "    print(number)"
   ]
  },
  {
   "cell_type": "markdown",
   "metadata": {},
   "source": [
    "## Comprehensions"
   ]
  },
  {
   "cell_type": "code",
   "execution_count": 6,
   "metadata": {},
   "outputs": [
    {
     "name": "stdout",
     "output_type": "stream",
     "text": [
      "[1, 4, 16, 25, 49, 64, 100, 121, 169, 196, 256, 289, 361, 400]\n"
     ]
    }
   ],
   "source": [
    "number_list = list(range(1, 21))\n",
    "my_list = [number**2 for number in number_list if number % 3 != 0]\n",
    "print(my_list)"
   ]
  },
  {
   "cell_type": "markdown",
   "metadata": {},
   "source": [
    "# Section 4"
   ]
  },
  {
   "cell_type": "markdown",
   "metadata": {},
   "source": [
    "## Defining and running functions"
   ]
  },
  {
   "cell_type": "markdown",
   "metadata": {},
   "source": [
    "Assume the following constant elasticity of substitution (CES) utility function: $U(x, y) = \\frac{x^\\delta}{\\delta} + \\frac{y^\\delta}{\\delta}$ with $\\delta < 1$ and $\\delta \\neq 0$."
   ]
  },
  {
   "cell_type": "markdown",
   "metadata": {},
   "source": [
    "1. Define the function `ces_utility` and call it with $x = 1, y = 2, \\delta = -1$.\n",
    "2. Call the function using positional and keyword arguments. \n",
    "3. Define a default parameter for $\\delta = 0.5$ and call the function with it. \n",
    "4. Document the function. What does it do? What are its inputs and outputs. "
   ]
  },
  {
   "cell_type": "code",
   "execution_count": 11,
   "metadata": {},
   "outputs": [
    {
     "data": {
      "text/plain": [
       "-1.5"
      ]
     },
     "execution_count": 11,
     "metadata": {},
     "output_type": "execute_result"
    }
   ],
   "source": [
    "def ces_utility(x, y, delta): \n",
    "    u = (x**delta)/delta + (y**delta)/delta\n",
    "    return u\n",
    "ces_utility(1, 2, -1) "
   ]
  },
  {
   "cell_type": "code",
   "execution_count": 13,
   "metadata": {},
   "outputs": [
    {
     "name": "stdout",
     "output_type": "stream",
     "text": [
      "-1.5\n",
      "-1.5\n"
     ]
    }
   ],
   "source": [
    "print(ces_utility(1, 2, -1))\n",
    "print(ces_utility(y = 2, x = 1, delta = -1))"
   ]
  },
  {
   "cell_type": "code",
   "execution_count": 14,
   "metadata": {},
   "outputs": [
    {
     "data": {
      "text/plain": [
       "4.82842712474619"
      ]
     },
     "execution_count": 14,
     "metadata": {},
     "output_type": "execute_result"
    }
   ],
   "source": [
    "def ces_utility(x, y, delta = 0.5): \n",
    "    u = (x**delta)/delta + (y**delta)/delta\n",
    "    return u\n",
    "ces_utility(x = 1, y = 2)"
   ]
  },
  {
   "cell_type": "code",
   "execution_count": 15,
   "metadata": {
    "collapsed": true
   },
   "outputs": [],
   "source": [
    "def ces_utility(x, y, delta = 0.5): \n",
    "    '''Calculates the CES utility. \n",
    "    Inputs: \n",
    "    * x: good 1 (numeric) \n",
    "    * y: good 2 (numeric) \n",
    "    * delta: governs elasticity of substitution (numeric)\n",
    "    \n",
    "    Output: utility (numeric) '''\n",
    "    u = (x**delta)/delta + (y**delta)/delta\n",
    "    return u"
   ]
  },
  {
   "cell_type": "markdown",
   "metadata": {},
   "source": [
    "## Functions as objects"
   ]
  },
  {
   "cell_type": "markdown",
   "metadata": {},
   "source": [
    "1. Write a function `nl_apply` which takes a list of numbers and function as arguments, and applies the function to each element of the list. \n",
    "2. Write a function `plus_one`, which takes a number as an input and increases it by 1. \n",
    "3. Call the function `nl_apply` with a list of numbers from 1 to 10 and the function `plus_one` as arguments. Store the result in the variable `result` and print it out. "
   ]
  },
  {
   "cell_type": "code",
   "execution_count": 18,
   "metadata": {},
   "outputs": [
    {
     "data": {
      "text/plain": [
       "[2, 3, 4, 5, 6, 7, 8, 9, 10, 11]"
      ]
     },
     "execution_count": 18,
     "metadata": {},
     "output_type": "execute_result"
    }
   ],
   "source": [
    "def nl_apply(list_of_numbers, func): \n",
    "    result = []\n",
    "    for number in list_of_numbers:\n",
    "        result.append(func(number))\n",
    "    return result\n",
    "\n",
    "def plus_one(number): \n",
    "    return number + 1\n",
    "\n",
    "nl_apply(range(1, 11), plus_one)"
   ]
  },
  {
   "cell_type": "markdown",
   "metadata": {},
   "source": [
    "## Error handling with `try` and `except`"
   ]
  },
  {
   "cell_type": "markdown",
   "metadata": {},
   "source": [
    "1. Write a function `add_stuff` which adds two numbers given to it as arguments. \n",
    "2. Call it without arguments. Observe what happens. \n",
    "3. Use a try-except structure to explain the error. Call the function without arguments again. "
   ]
  },
  {
   "cell_type": "code",
   "execution_count": 20,
   "metadata": {},
   "outputs": [
    {
     "name": "stdout",
     "output_type": "stream",
     "text": [
      "You forgot to pass two numbers to the function!\n"
     ]
    }
   ],
   "source": [
    "def add_stuff(x, y): \n",
    "    return x + y\n",
    "\n",
    "try:\n",
    "    add_stuff()\n",
    "    \n",
    "except TypeError:\n",
    "    print('You forgot to pass two numbers to the function!')"
   ]
  },
  {
   "cell_type": "markdown",
   "metadata": {},
   "source": [
    "# Modules"
   ]
  },
  {
   "cell_type": "markdown",
   "metadata": {},
   "source": [
    "1. Create a file called `hitchhiker.py` in your current working directory. \n",
    "2. Open it and define a function called `meaning_of_life`. The function should print out: `The meaning of life is 42!`\n",
    "3. Open a new notebook or script. Import the module `hitchhiker` and run the function.\n",
    "4. Import the module as `adams` and call the function. \n",
    "5. Import just the function `meaning_of_life` and call it. \n",
    "6. Import the function as `deep_thought` and call it. "
   ]
  },
  {
   "cell_type": "markdown",
   "metadata": {},
   "source": [
    "No solution provided here. "
   ]
  }
 ],
 "metadata": {
  "kernelspec": {
   "display_name": "Python 3",
   "language": "python",
   "name": "python3"
  },
  "language_info": {
   "codemirror_mode": {
    "name": "ipython",
    "version": 3
   },
   "file_extension": ".py",
   "mimetype": "text/x-python",
   "name": "python",
   "nbconvert_exporter": "python",
   "pygments_lexer": "ipython3",
   "version": "3.6.1"
  }
 },
 "nbformat": 4,
 "nbformat_minor": 1
}

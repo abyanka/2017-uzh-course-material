{
 "cells": [
  {
   "cell_type": "markdown",
   "metadata": {},
   "source": [
    "# SQLite Databases with Python\n",
    "\n",
    "* Module Maintainer: @lachlandeer\n",
    "* Creation Date: August 22, 2017"
   ]
  },
  {
   "cell_type": "markdown",
   "metadata": {},
   "source": [
    "## Loading the required packages\n",
    "\n",
    "We need to import the package to interact with SQLite databases, `sqlite3` and we will import `pandas` so that we can get the output as a nicely behaved dataset."
   ]
  },
  {
   "cell_type": "code",
   "execution_count": 1,
   "metadata": {
    "collapsed": true
   },
   "outputs": [],
   "source": [
    "import sqlite3\n",
    "import pandas as pd"
   ]
  },
  {
   "cell_type": "markdown",
   "metadata": {},
   "source": [
    "## Connecting to the Auctions Data\n",
    "\n",
    "The SQLite database is contained in a single file `../database/auctions_data.db`. We connect to it using the function `sqlite3.connect()` which returns a connection object:"
   ]
  },
  {
   "cell_type": "code",
   "execution_count": 2,
   "metadata": {
    "collapsed": true
   },
   "outputs": [],
   "source": [
    "connection = sqlite3.connect('../database/auctions_data.db')"
   ]
  },
  {
   "cell_type": "code",
   "execution_count": 3,
   "metadata": {
    "collapsed": false
   },
   "outputs": [
    {
     "data": {
      "text/plain": [
       "sqlite3.Connection"
      ]
     },
     "execution_count": 3,
     "metadata": {},
     "output_type": "execute_result"
    }
   ],
   "source": [
    "type(connection)"
   ]
  },
  {
   "cell_type": "markdown",
   "metadata": {},
   "source": [
    "We can then create a Cursor object. Cursors allow us to execute SQL queries against a database:"
   ]
  },
  {
   "cell_type": "code",
   "execution_count": 4,
   "metadata": {
    "collapsed": false
   },
   "outputs": [],
   "source": [
    "cursor = connection.cursor()"
   ]
  },
  {
   "cell_type": "code",
   "execution_count": 5,
   "metadata": {
    "collapsed": false
   },
   "outputs": [
    {
     "data": {
      "text/plain": [
       "sqlite3.Cursor"
      ]
     },
     "execution_count": 5,
     "metadata": {},
     "output_type": "execute_result"
    }
   ],
   "source": [
    "type(cursor)"
   ]
  },
  {
   "cell_type": "markdown",
   "metadata": {},
   "source": [
    "Now we have the Cursor object, we can use it to execute a query against the database with the aptly named `execute` method. We simply wrap the `SQL` command inside of `.execute()` using quotations, \".\n",
    "\n",
    "As a first-step we might want to know what tables are in the database. Unlike `R`, we have to do a little work here ourselves:\n",
    "\n",
    "* The list of tables in a `sqlite` database live inside a master table called `sqlite_master`\n",
    "* From `sqlite_master` we want to extract the `tables` using a `WHERE` condition\n",
    "\n",
    "Let's do this:"
   ]
  },
  {
   "cell_type": "code",
   "execution_count": 6,
   "metadata": {
    "collapsed": false
   },
   "outputs": [
    {
     "data": {
      "text/plain": [
       "<sqlite3.Cursor at 0x7f6e5252ece0>"
      ]
     },
     "execution_count": 6,
     "metadata": {},
     "output_type": "execute_result"
    }
   ],
   "source": [
    "cursor.execute(\"SELECT name FROM sqlite_master WHERE type='table';\")"
   ]
  },
  {
   "cell_type": "markdown",
   "metadata": {},
   "source": [
    "Note that we don't actually get results from the `execute` method. We need to use the `fetchall()` method applied to our cursor to get the results back:"
   ]
  },
  {
   "cell_type": "code",
   "execution_count": 7,
   "metadata": {
    "collapsed": false
   },
   "outputs": [
    {
     "name": "stdout",
     "output_type": "stream",
     "text": [
      "[('auctions',), ('bidders',), ('bids',)]\n"
     ]
    }
   ],
   "source": [
    "print(cursor.fetchall())"
   ]
  },
  {
   "cell_type": "markdown",
   "metadata": {},
   "source": [
    "which delivers the information we would expect, although in a different format:"
   ]
  },
  {
   "cell_type": "code",
   "execution_count": 8,
   "metadata": {
    "collapsed": false
   },
   "outputs": [
    {
     "data": {
      "text/plain": [
       "list"
      ]
     },
     "execution_count": 8,
     "metadata": {},
     "output_type": "execute_result"
    }
   ],
   "source": [
    "results = cursor.fetchall()\n",
    "type(results)"
   ]
  },
  {
   "cell_type": "markdown",
   "metadata": {},
   "source": [
    "It's good practice to close Connection objects and Cursor objects that are open. This prevents the SQLite database from being locked. When a SQLite database is locked, you may be unable to update the database, and may get errors. We can close the Cursor and the Connection like this:"
   ]
  },
  {
   "cell_type": "code",
   "execution_count": 9,
   "metadata": {
    "collapsed": true
   },
   "outputs": [],
   "source": [
    "cursor.close()\n",
    "connection.close()"
   ]
  },
  {
   "cell_type": "markdown",
   "metadata": {},
   "source": [
    "## Querying the Database\n",
    "\n",
    "Now we know what tables are in the database (we already knew! But it's good ot make sure that we got what was expected), we can proceed with making simple queries.\n",
    "\n",
    "Let's replicate an earlier example where we select AuctionID, Volume, District from the auctions table:"
   ]
  },
  {
   "cell_type": "code",
   "execution_count": 10,
   "metadata": {
    "collapsed": false
   },
   "outputs": [
    {
     "name": "stdout",
     "output_type": "stream",
     "text": [
      "[(1, 1234, 1), (2, 345, 3), (3, 2346, 2), (4, 1278, 4), (5, 789, 7), (6, 934, 6), (7, 269, 9), (8, 357, 8), (9, 1503, 4), (10, 239, 7)]\n"
     ]
    }
   ],
   "source": [
    "connection = sqlite3.connect('../database/auctions_data.db')\n",
    "cursor = connection.cursor()\n",
    "\n",
    "cursor.execute(\"SELECT AuctionID, Volume, District FROM auctions;\")\n",
    "results = cursor.fetchall()\n",
    "print(results)"
   ]
  },
  {
   "cell_type": "markdown",
   "metadata": {},
   "source": [
    "The results are formatted as a list of tuples. \n",
    "Each tuple corresponds to a row in the database. Dealing with data this way is \n",
    "painful:\n",
    "\n",
    "* Need to manually add column heads, and\n",
    "* Manually parse the data to a csv or dataframe. \n",
    "\n",
    "The `pandas` library has an easier way - which will return `DataFrames` to us.\n",
    "\n",
    "Before we get there, let's be good programmers and remember to close our database connection:"
   ]
  },
  {
   "cell_type": "code",
   "execution_count": 11,
   "metadata": {
    "collapsed": false
   },
   "outputs": [],
   "source": [
    "cursor.close()\n",
    "connection.close()"
   ]
  },
  {
   "cell_type": "markdown",
   "metadata": {},
   "source": [
    "## Reading SQL results directly into a Pandas DataFrame\n",
    "\n",
    "`Pandas` has an inbuilt function `read_sql_query` that reads the results of a SQL query straight into a `DataFrame`.\n",
    "\n",
    "There are several advantages of this:\n",
    "\n",
    "1. Avoids the need to create a cursor object, and 'fetch' results at the end with `fetch_all`\n",
    "2. Pandas directly reads in column names from the SQL table headers\n",
    "3. The output is a `DataFrame` which we have already learned how to work with\n",
    "\n",
    "Let's take the same query as above, but this time send the results into a pandas `DataFrame`:"
   ]
  },
  {
   "cell_type": "code",
   "execution_count": 12,
   "metadata": {
    "collapsed": false
   },
   "outputs": [
    {
     "data": {
      "text/html": [
       "<div>\n",
       "<table border=\"1\" class=\"dataframe\">\n",
       "  <thead>\n",
       "    <tr style=\"text-align: right;\">\n",
       "      <th></th>\n",
       "      <th>AuctionID</th>\n",
       "      <th>Volume</th>\n",
       "      <th>District</th>\n",
       "    </tr>\n",
       "  </thead>\n",
       "  <tbody>\n",
       "    <tr>\n",
       "      <th>0</th>\n",
       "      <td>1</td>\n",
       "      <td>1234</td>\n",
       "      <td>1</td>\n",
       "    </tr>\n",
       "    <tr>\n",
       "      <th>1</th>\n",
       "      <td>2</td>\n",
       "      <td>345</td>\n",
       "      <td>3</td>\n",
       "    </tr>\n",
       "    <tr>\n",
       "      <th>2</th>\n",
       "      <td>3</td>\n",
       "      <td>2346</td>\n",
       "      <td>2</td>\n",
       "    </tr>\n",
       "    <tr>\n",
       "      <th>3</th>\n",
       "      <td>4</td>\n",
       "      <td>1278</td>\n",
       "      <td>4</td>\n",
       "    </tr>\n",
       "    <tr>\n",
       "      <th>4</th>\n",
       "      <td>5</td>\n",
       "      <td>789</td>\n",
       "      <td>7</td>\n",
       "    </tr>\n",
       "    <tr>\n",
       "      <th>5</th>\n",
       "      <td>6</td>\n",
       "      <td>934</td>\n",
       "      <td>6</td>\n",
       "    </tr>\n",
       "    <tr>\n",
       "      <th>6</th>\n",
       "      <td>7</td>\n",
       "      <td>269</td>\n",
       "      <td>9</td>\n",
       "    </tr>\n",
       "    <tr>\n",
       "      <th>7</th>\n",
       "      <td>8</td>\n",
       "      <td>357</td>\n",
       "      <td>8</td>\n",
       "    </tr>\n",
       "    <tr>\n",
       "      <th>8</th>\n",
       "      <td>9</td>\n",
       "      <td>1503</td>\n",
       "      <td>4</td>\n",
       "    </tr>\n",
       "    <tr>\n",
       "      <th>9</th>\n",
       "      <td>10</td>\n",
       "      <td>239</td>\n",
       "      <td>7</td>\n",
       "    </tr>\n",
       "  </tbody>\n",
       "</table>\n",
       "</div>"
      ],
      "text/plain": [
       "   AuctionID  Volume  District\n",
       "0          1    1234         1\n",
       "1          2     345         3\n",
       "2          3    2346         2\n",
       "3          4    1278         4\n",
       "4          5     789         7\n",
       "5          6     934         6\n",
       "6          7     269         9\n",
       "7          8     357         8\n",
       "8          9    1503         4\n",
       "9         10     239         7"
      ]
     },
     "execution_count": 12,
     "metadata": {},
     "output_type": "execute_result"
    }
   ],
   "source": [
    "connection = sqlite3.connect('../database/auctions_data.db')\n",
    "\n",
    "data = pd.read_sql_query(\"SELECT AuctionID, Volume, District FROM auctions;\", connection)\n",
    "\n",
    "data"
   ]
  },
  {
   "cell_type": "markdown",
   "metadata": {},
   "source": [
    "Nice! That's almost too easy.\n",
    "\n",
    "Now suppose we want to execute a more complicated query: again collecting the minimum, maximum and average bid for each bidder, and link this to the bidder’s name.\n",
    "\n",
    "Writing out the full query in one line would be pretty unreadable; so we want a way to sent a multiline SQL query across and get the results back. We can wrap our query in triple quotations, `\"\"\"`, and proceed as usual:"
   ]
  },
  {
   "cell_type": "code",
   "execution_count": 13,
   "metadata": {
    "collapsed": false
   },
   "outputs": [
    {
     "data": {
      "text/html": [
       "<div>\n",
       "<table border=\"1\" class=\"dataframe\">\n",
       "  <thead>\n",
       "    <tr style=\"text-align: right;\">\n",
       "      <th></th>\n",
       "      <th>FirstName</th>\n",
       "      <th>LastName</th>\n",
       "      <th>SmallestBid</th>\n",
       "      <th>AverageBid</th>\n",
       "      <th>LargestBid</th>\n",
       "    </tr>\n",
       "  </thead>\n",
       "  <tbody>\n",
       "    <tr>\n",
       "      <th>0</th>\n",
       "      <td>Adam</td>\n",
       "      <td>Cooper</td>\n",
       "      <td>10.86</td>\n",
       "      <td>13.53</td>\n",
       "      <td>19.21</td>\n",
       "    </tr>\n",
       "    <tr>\n",
       "      <th>1</th>\n",
       "      <td>Bryan</td>\n",
       "      <td>Dykstra</td>\n",
       "      <td>8.81</td>\n",
       "      <td>11.38</td>\n",
       "      <td>13.09</td>\n",
       "    </tr>\n",
       "    <tr>\n",
       "      <th>2</th>\n",
       "      <td>Charles</td>\n",
       "      <td>Elan</td>\n",
       "      <td>7.39</td>\n",
       "      <td>10.58</td>\n",
       "      <td>15.62</td>\n",
       "    </tr>\n",
       "    <tr>\n",
       "      <th>3</th>\n",
       "      <td>David</td>\n",
       "      <td>Forester</td>\n",
       "      <td>7.93</td>\n",
       "      <td>12.27</td>\n",
       "      <td>15.67</td>\n",
       "    </tr>\n",
       "    <tr>\n",
       "      <th>4</th>\n",
       "      <td>Edward</td>\n",
       "      <td>Gulden</td>\n",
       "      <td>7.35</td>\n",
       "      <td>10.09</td>\n",
       "      <td>14.28</td>\n",
       "    </tr>\n",
       "    <tr>\n",
       "      <th>5</th>\n",
       "      <td>Frank</td>\n",
       "      <td>Hollister</td>\n",
       "      <td>7.14</td>\n",
       "      <td>9.90</td>\n",
       "      <td>13.03</td>\n",
       "    </tr>\n",
       "    <tr>\n",
       "      <th>6</th>\n",
       "      <td>George</td>\n",
       "      <td>Ivanov</td>\n",
       "      <td>7.99</td>\n",
       "      <td>10.13</td>\n",
       "      <td>12.34</td>\n",
       "    </tr>\n",
       "  </tbody>\n",
       "</table>\n",
       "</div>"
      ],
      "text/plain": [
       "  FirstName   LastName  SmallestBid  AverageBid  LargestBid\n",
       "0      Adam     Cooper        10.86       13.53       19.21\n",
       "1     Bryan    Dykstra         8.81       11.38       13.09\n",
       "2   Charles       Elan         7.39       10.58       15.62\n",
       "3     David   Forester         7.93       12.27       15.67\n",
       "4    Edward     Gulden         7.35       10.09       14.28\n",
       "5     Frank  Hollister         7.14        9.90       13.03\n",
       "6    George     Ivanov         7.99       10.13       12.34"
      ]
     },
     "execution_count": 13,
     "metadata": {},
     "output_type": "execute_result"
    }
   ],
   "source": [
    "data2 = pd.read_sql_query(\"\"\"\n",
    "                            SELECT\n",
    "                                  bidders.FirstName\n",
    "                                , bidders.LastName  \n",
    "                                , MIN(bids.Bid)           AS SmallestBid\n",
    "                                , ROUND(AVG(bids.Bid),2)  AS AverageBid\n",
    "                                , MAX(bids.Bid)           AS LargestBid\n",
    "                            FROM\n",
    "                                bids\n",
    "                            INNER JOIN\n",
    "                                bidders\n",
    "                            ON\n",
    "                                bidders.BidderID = bids.BidderID\n",
    "                            GROUP BY\n",
    "                                  bids.BidderID\n",
    "                            ;\n",
    "                            \"\"\",\n",
    "                             connection)\n",
    "\n",
    "data2"
   ]
  },
  {
   "cell_type": "markdown",
   "metadata": {},
   "source": [
    "We can also write the query as it's own variable and pass that, if we think it makes for tidier code:"
   ]
  },
  {
   "cell_type": "code",
   "execution_count": 14,
   "metadata": {
    "collapsed": true
   },
   "outputs": [],
   "source": [
    "request = \"\"\"\n",
    "            SELECT\n",
    "                  bidders.FirstName\n",
    "                , bidders.LastName  \n",
    "                , MIN(bids.Bid)           AS SmallestBid\n",
    "                , ROUND(AVG(bids.Bid),2)  AS AverageBid\n",
    "                , MAX(bids.Bid)           AS LargestBid\n",
    "            FROM\n",
    "                bids\n",
    "            INNER JOIN\n",
    "                bidders\n",
    "            ON\n",
    "                bidders.BidderID = bids.BidderID\n",
    "            GROUP BY\n",
    "                  bids.BidderID\n",
    "            ;\n",
    "            \"\"\""
   ]
  },
  {
   "cell_type": "code",
   "execution_count": 15,
   "metadata": {
    "collapsed": false
   },
   "outputs": [
    {
     "data": {
      "text/html": [
       "<div>\n",
       "<table border=\"1\" class=\"dataframe\">\n",
       "  <thead>\n",
       "    <tr style=\"text-align: right;\">\n",
       "      <th></th>\n",
       "      <th>FirstName</th>\n",
       "      <th>LastName</th>\n",
       "      <th>SmallestBid</th>\n",
       "      <th>AverageBid</th>\n",
       "      <th>LargestBid</th>\n",
       "    </tr>\n",
       "  </thead>\n",
       "  <tbody>\n",
       "    <tr>\n",
       "      <th>0</th>\n",
       "      <td>Adam</td>\n",
       "      <td>Cooper</td>\n",
       "      <td>10.86</td>\n",
       "      <td>13.53</td>\n",
       "      <td>19.21</td>\n",
       "    </tr>\n",
       "    <tr>\n",
       "      <th>1</th>\n",
       "      <td>Bryan</td>\n",
       "      <td>Dykstra</td>\n",
       "      <td>8.81</td>\n",
       "      <td>11.38</td>\n",
       "      <td>13.09</td>\n",
       "    </tr>\n",
       "    <tr>\n",
       "      <th>2</th>\n",
       "      <td>Charles</td>\n",
       "      <td>Elan</td>\n",
       "      <td>7.39</td>\n",
       "      <td>10.58</td>\n",
       "      <td>15.62</td>\n",
       "    </tr>\n",
       "    <tr>\n",
       "      <th>3</th>\n",
       "      <td>David</td>\n",
       "      <td>Forester</td>\n",
       "      <td>7.93</td>\n",
       "      <td>12.27</td>\n",
       "      <td>15.67</td>\n",
       "    </tr>\n",
       "    <tr>\n",
       "      <th>4</th>\n",
       "      <td>Edward</td>\n",
       "      <td>Gulden</td>\n",
       "      <td>7.35</td>\n",
       "      <td>10.09</td>\n",
       "      <td>14.28</td>\n",
       "    </tr>\n",
       "    <tr>\n",
       "      <th>5</th>\n",
       "      <td>Frank</td>\n",
       "      <td>Hollister</td>\n",
       "      <td>7.14</td>\n",
       "      <td>9.90</td>\n",
       "      <td>13.03</td>\n",
       "    </tr>\n",
       "    <tr>\n",
       "      <th>6</th>\n",
       "      <td>George</td>\n",
       "      <td>Ivanov</td>\n",
       "      <td>7.99</td>\n",
       "      <td>10.13</td>\n",
       "      <td>12.34</td>\n",
       "    </tr>\n",
       "  </tbody>\n",
       "</table>\n",
       "</div>"
      ],
      "text/plain": [
       "  FirstName   LastName  SmallestBid  AverageBid  LargestBid\n",
       "0      Adam     Cooper        10.86       13.53       19.21\n",
       "1     Bryan    Dykstra         8.81       11.38       13.09\n",
       "2   Charles       Elan         7.39       10.58       15.62\n",
       "3     David   Forester         7.93       12.27       15.67\n",
       "4    Edward     Gulden         7.35       10.09       14.28\n",
       "5     Frank  Hollister         7.14        9.90       13.03\n",
       "6    George     Ivanov         7.99       10.13       12.34"
      ]
     },
     "execution_count": 15,
     "metadata": {},
     "output_type": "execute_result"
    }
   ],
   "source": [
    "data3 = pd.read_sql_query(request, connection)\n",
    "data3"
   ]
  },
  {
   "cell_type": "code",
   "execution_count": null,
   "metadata": {
    "collapsed": true
   },
   "outputs": [],
   "source": []
  }
 ],
 "metadata": {
  "anaconda-cloud": {},
  "kernelspec": {
   "display_name": "Python [Root]",
   "language": "python",
   "name": "Python [Root]"
  },
  "language_info": {
   "codemirror_mode": {
    "name": "ipython",
    "version": 3
   },
   "file_extension": ".py",
   "mimetype": "text/x-python",
   "name": "python",
   "nbconvert_exporter": "python",
   "pygments_lexer": "ipython3",
   "version": "3.5.2"
  }
 },
 "nbformat": 4,
 "nbformat_minor": 0
}

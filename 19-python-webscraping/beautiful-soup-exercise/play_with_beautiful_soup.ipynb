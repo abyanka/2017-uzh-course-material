{
 "cells": [
  {
   "cell_type": "code",
   "execution_count": 1,
   "metadata": {
    "collapsed": true
   },
   "outputs": [],
   "source": [
    "import requests\n",
    "from bs4 import BeautifulSoup\n",
    "import re"
   ]
  },
  {
   "cell_type": "code",
   "execution_count": 2,
   "metadata": {
    "collapsed": false
   },
   "outputs": [
    {
     "name": "stderr",
     "output_type": "stream",
     "text": [
      "/home/lachlan/anaconda3/lib/python3.5/site-packages/bs4/__init__.py:166: UserWarning: No parser was explicitly specified, so I'm using the best available HTML parser for this system (\"lxml\"). This usually isn't a problem, but if you run this code on another system, or in a different virtual environment, it may use a different parser and behave differently.\n",
      "\n",
      "To get rid of this warning, change this:\n",
      "\n",
      " BeautifulSoup([your markup])\n",
      "\n",
      "to this:\n",
      "\n",
      " BeautifulSoup([your markup], \"lxml\")\n",
      "\n",
      "  markup_type=markup_type))\n"
     ]
    }
   ],
   "source": [
    "url = 'http://transparentcalifornia.com/salaries/2016/university-of-california/'\n",
    "\n",
    "payload = requests.get(url) \n",
    "soup = BeautifulSoup(payload.text)"
   ]
  },
  {
   "cell_type": "code",
   "execution_count": 3,
   "metadata": {
    "collapsed": false
   },
   "outputs": [],
   "source": [
    "# get the table where salaries are\n",
    "salaryTable = soup.tbody"
   ]
  },
  {
   "cell_type": "markdown",
   "metadata": {},
   "source": [
    "## Processing One Row of data"
   ]
  },
  {
   "cell_type": "code",
   "execution_count": 4,
   "metadata": {
    "collapsed": false
   },
   "outputs": [
    {
     "name": "stdout",
     "output_type": "stream",
     "text": [
      "<tr>\n",
      "<td>\n",
      "<a href=\"/salaries/2016/university-of-california/james-lawrence-mora/\">James Lawrence Mora</a>\n",
      "</td>\n",
      "<td>\n",
      "<a href=\"/salaries/search/?q=INTERCOL%20ATH%20HEAD%20COACH%20EX&amp;y=2016\">INTERCOL ATH HEAD COACH EX</a><br/>\n",
      "<small class=\"muted\"><a href=\"/salaries/2016/university-of-california/\">University of California, 2016</a></small>\n",
      "</td>\n",
      "<td>$300,000.00</td>\n",
      "<td>$0.00</td>\n",
      "<td>$3,277,299.00</td>\n",
      "<td>$3,577,299.00</td>\n",
      "<td>Not provided</td>\n",
      "<td>$3,577,299.00</td>\n",
      "</tr>\n"
     ]
    }
   ],
   "source": [
    "# find employee\n",
    "employee = salaryTable('tr')[0]\n",
    "print(employee)"
   ]
  },
  {
   "cell_type": "code",
   "execution_count": 5,
   "metadata": {
    "collapsed": false
   },
   "outputs": [],
   "source": [
    "def get_employee_name(employee_data):\n",
    "    employee_name = employee_data.findNext('a', href=True)\n",
    "    employee_name_text = employee_name.text\n",
    "    \n",
    "    return employee_name_text"
   ]
  },
  {
   "cell_type": "code",
   "execution_count": 6,
   "metadata": {
    "collapsed": false
   },
   "outputs": [
    {
     "data": {
      "text/plain": [
       "'James Lawrence Mora'"
      ]
     },
     "execution_count": 6,
     "metadata": {},
     "output_type": "execute_result"
    }
   ],
   "source": [
    "get_employee_name(employee)"
   ]
  },
  {
   "cell_type": "code",
   "execution_count": 7,
   "metadata": {
    "collapsed": true
   },
   "outputs": [],
   "source": [
    "def get_employee_job(employee_data):\n",
    "    employee_job = employee_data.findNext('a', href=True).findNext('a', href=True)\n",
    "    employee_job_text = employee_job.text.lower()\n",
    "    \n",
    "    return employee_job_text"
   ]
  },
  {
   "cell_type": "code",
   "execution_count": 8,
   "metadata": {
    "collapsed": false
   },
   "outputs": [
    {
     "data": {
      "text/plain": [
       "'intercol ath head coach ex'"
      ]
     },
     "execution_count": 8,
     "metadata": {},
     "output_type": "execute_result"
    }
   ],
   "source": [
    "get_employee_job(employee)"
   ]
  },
  {
   "cell_type": "code",
   "execution_count": 9,
   "metadata": {
    "collapsed": true
   },
   "outputs": [],
   "source": [
    "def money_to_int(moneystring):\n",
    "    '''\n",
    "    A helper function to strip out dollar signs ($) and commas leaving any\n",
    "    dollar value as a integer\n",
    "    '''\n",
    "    try:\n",
    "        moneystring = moneystring.replace('$', '').replace(',', '')\n",
    "        return float(moneystring)\n",
    "    except:\n",
    "        pass\n",
    "    return moneystring\n",
    "\n",
    "def get_total_pay(employee_data):\n",
    "    total_income = employee_data('td')[-1].text\n",
    "    return money_to_int(total_income)"
   ]
  },
  {
   "cell_type": "code",
   "execution_count": 10,
   "metadata": {
    "collapsed": false
   },
   "outputs": [
    {
     "data": {
      "text/plain": [
       "3577299.0"
      ]
     },
     "execution_count": 10,
     "metadata": {},
     "output_type": "execute_result"
    }
   ],
   "source": [
    "get_total_pay(employee)"
   ]
  },
  {
   "cell_type": "code",
   "execution_count": 11,
   "metadata": {
    "collapsed": false
   },
   "outputs": [],
   "source": [
    "# Packing it into a row of data"
   ]
  },
  {
   "cell_type": "code",
   "execution_count": 12,
   "metadata": {
    "collapsed": true
   },
   "outputs": [],
   "source": [
    "def process_employee(employee_data):\n",
    "    import pandas as pd\n",
    "    \n",
    "    name      = get_employee_name(employee_data)\n",
    "    job_title = get_employee_job(employee_data)\n",
    "    salary   = get_total_pay(employee_data)\n",
    "    \n",
    "    # make a row of data\n",
    "    headers = ['name','job', 'salary']\n",
    "    \n",
    "    df_employee = pd.DataFrame([[name, job_title, salary]],\n",
    "                                    columns=headers)\n",
    "\n",
    "    # return a line of data to the object assigned\n",
    "    return df_employee"
   ]
  },
  {
   "cell_type": "code",
   "execution_count": 13,
   "metadata": {
    "collapsed": false
   },
   "outputs": [
    {
     "data": {
      "text/html": [
       "<div>\n",
       "<table border=\"1\" class=\"dataframe\">\n",
       "  <thead>\n",
       "    <tr style=\"text-align: right;\">\n",
       "      <th></th>\n",
       "      <th>name</th>\n",
       "      <th>job</th>\n",
       "      <th>salary</th>\n",
       "    </tr>\n",
       "  </thead>\n",
       "  <tbody>\n",
       "    <tr>\n",
       "      <th>0</th>\n",
       "      <td>James Lawrence Mora</td>\n",
       "      <td>intercol ath head coach ex</td>\n",
       "      <td>3577299.0</td>\n",
       "    </tr>\n",
       "  </tbody>\n",
       "</table>\n",
       "</div>"
      ],
      "text/plain": [
       "                  name                         job     salary\n",
       "0  James Lawrence Mora  intercol ath head coach ex  3577299.0"
      ]
     },
     "execution_count": 13,
     "metadata": {},
     "output_type": "execute_result"
    }
   ],
   "source": [
    "process_employee(employee)"
   ]
  },
  {
   "cell_type": "markdown",
   "metadata": {},
   "source": [
    "## Getting all data from the table"
   ]
  },
  {
   "cell_type": "code",
   "execution_count": 14,
   "metadata": {
    "collapsed": false
   },
   "outputs": [],
   "source": [
    "import pandas as pd\n",
    "\n",
    "# empty data frame\n",
    "df_staff = pd.DataFrame()\n",
    "\n",
    "# for every employee:\n",
    "for iEmployee in salaryTable.findAll('tr'):\n",
    "    \n",
    "    df_employee = process_employee(iEmployee)\n",
    "    df_staff = df_staff.append(df_employee, ignore_index=True)"
   ]
  },
  {
   "cell_type": "code",
   "execution_count": 15,
   "metadata": {
    "collapsed": false
   },
   "outputs": [
    {
     "data": {
      "text/html": [
       "<div>\n",
       "<table border=\"1\" class=\"dataframe\">\n",
       "  <thead>\n",
       "    <tr style=\"text-align: right;\">\n",
       "      <th></th>\n",
       "      <th>name</th>\n",
       "      <th>job</th>\n",
       "      <th>salary</th>\n",
       "    </tr>\n",
       "  </thead>\n",
       "  <tbody>\n",
       "    <tr>\n",
       "      <th>0</th>\n",
       "      <td>James Lawrence Mora</td>\n",
       "      <td>intercol ath head coach ex</td>\n",
       "      <td>3577299.0</td>\n",
       "    </tr>\n",
       "    <tr>\n",
       "      <th>1</th>\n",
       "      <td>Cuonzo Martin</td>\n",
       "      <td>head coach 5</td>\n",
       "      <td>2933098.0</td>\n",
       "    </tr>\n",
       "    <tr>\n",
       "      <th>2</th>\n",
       "      <td>Daniel Dykes</td>\n",
       "      <td>head coach 5</td>\n",
       "      <td>2891233.0</td>\n",
       "    </tr>\n",
       "    <tr>\n",
       "      <th>3</th>\n",
       "      <td>Stephen Todd Alford</td>\n",
       "      <td>intercol ath head coach ex</td>\n",
       "      <td>2721405.0</td>\n",
       "    </tr>\n",
       "    <tr>\n",
       "      <th>4</th>\n",
       "      <td>Gordon Alan Cohen</td>\n",
       "      <td>hs clin instr-hcomp</td>\n",
       "      <td>2720796.0</td>\n",
       "    </tr>\n",
       "    <tr>\n",
       "      <th>5</th>\n",
       "      <td>Ronald W Busuttil</td>\n",
       "      <td>prof-hcomp</td>\n",
       "      <td>2482207.0</td>\n",
       "    </tr>\n",
       "    <tr>\n",
       "      <th>6</th>\n",
       "      <td>Vadiyala Mohan Reddy</td>\n",
       "      <td>act prof-hcomp</td>\n",
       "      <td>1943521.0</td>\n",
       "    </tr>\n",
       "    <tr>\n",
       "      <th>7</th>\n",
       "      <td>Timothy H Mccalmont</td>\n",
       "      <td>prof of clin-hcomp</td>\n",
       "      <td>1926941.0</td>\n",
       "    </tr>\n",
       "    <tr>\n",
       "      <th>8</th>\n",
       "      <td>Eric Esrailian</td>\n",
       "      <td>hs assoc clin prof-hcomp</td>\n",
       "      <td>1837625.0</td>\n",
       "    </tr>\n",
       "    <tr>\n",
       "      <th>9</th>\n",
       "      <td>Philip E Leboit</td>\n",
       "      <td>prof of clin-hcomp</td>\n",
       "      <td>1779457.0</td>\n",
       "    </tr>\n",
       "    <tr>\n",
       "      <th>10</th>\n",
       "      <td>Robert N. Weinreb</td>\n",
       "      <td>prof-hcomp</td>\n",
       "      <td>1626782.0</td>\n",
       "    </tr>\n",
       "    <tr>\n",
       "      <th>11</th>\n",
       "      <td>Benjamin J Ansell</td>\n",
       "      <td>hs clin prof-hcomp</td>\n",
       "      <td>1615837.0</td>\n",
       "    </tr>\n",
       "    <tr>\n",
       "      <th>12</th>\n",
       "      <td>Gary L Gitnick</td>\n",
       "      <td>prof-hcomp</td>\n",
       "      <td>1599932.0</td>\n",
       "    </tr>\n",
       "    <tr>\n",
       "      <th>13</th>\n",
       "      <td>Michael M. Madani</td>\n",
       "      <td>prof of clin-hcomp</td>\n",
       "      <td>1579002.0</td>\n",
       "    </tr>\n",
       "    <tr>\n",
       "      <th>14</th>\n",
       "      <td>Khalil M Tabsh</td>\n",
       "      <td>hs clin prof-hcomp</td>\n",
       "      <td>1522723.0</td>\n",
       "    </tr>\n",
       "    <tr>\n",
       "      <th>15</th>\n",
       "      <td>Naveen D Bhandarkar</td>\n",
       "      <td>assoc prof of clin-hcomp</td>\n",
       "      <td>1476956.0</td>\n",
       "    </tr>\n",
       "    <tr>\n",
       "      <th>16</th>\n",
       "      <td>Brian G Derubertis</td>\n",
       "      <td>hs assoc clin prof-hcomp</td>\n",
       "      <td>1426581.0</td>\n",
       "    </tr>\n",
       "    <tr>\n",
       "      <th>17</th>\n",
       "      <td>Abbas Ardehali</td>\n",
       "      <td>prof-hcomp</td>\n",
       "      <td>1413454.0</td>\n",
       "    </tr>\n",
       "    <tr>\n",
       "      <th>18</th>\n",
       "      <td>Dinesh K Chhetri</td>\n",
       "      <td>prof in res-hcomp</td>\n",
       "      <td>1377175.0</td>\n",
       "    </tr>\n",
       "    <tr>\n",
       "      <th>19</th>\n",
       "      <td>Ehtisham Mahmud</td>\n",
       "      <td>prof of clin-hcomp</td>\n",
       "      <td>1356857.0</td>\n",
       "    </tr>\n",
       "    <tr>\n",
       "      <th>20</th>\n",
       "      <td>Richard J Shemin</td>\n",
       "      <td>prof-hcomp</td>\n",
       "      <td>1356682.0</td>\n",
       "    </tr>\n",
       "    <tr>\n",
       "      <th>21</th>\n",
       "      <td>Jagdeep Bachher</td>\n",
       "      <td>chf inv ofcr</td>\n",
       "      <td>1330411.0</td>\n",
       "    </tr>\n",
       "    <tr>\n",
       "      <th>22</th>\n",
       "      <td>Michael T Lawton</td>\n",
       "      <td>prof in res-hcomp</td>\n",
       "      <td>1286949.0</td>\n",
       "    </tr>\n",
       "    <tr>\n",
       "      <th>23</th>\n",
       "      <td>Jeffrey Dong-Sun Suh</td>\n",
       "      <td>assoc prof of clin-hcomp</td>\n",
       "      <td>1286029.0</td>\n",
       "    </tr>\n",
       "    <tr>\n",
       "      <th>24</th>\n",
       "      <td>Daniel H Geschwind</td>\n",
       "      <td>prof in res-hcomp</td>\n",
       "      <td>1249476.0</td>\n",
       "    </tr>\n",
       "    <tr>\n",
       "      <th>25</th>\n",
       "      <td>Shang I Brian Jiang</td>\n",
       "      <td>hs clin prof-hcomp</td>\n",
       "      <td>1233021.0</td>\n",
       "    </tr>\n",
       "    <tr>\n",
       "      <th>26</th>\n",
       "      <td>Mark R Laret</td>\n",
       "      <td>ceo med ctr</td>\n",
       "      <td>1206918.0</td>\n",
       "    </tr>\n",
       "    <tr>\n",
       "      <th>27</th>\n",
       "      <td>James M Heaps</td>\n",
       "      <td>hs clin instr-hcomp</td>\n",
       "      <td>1182265.0</td>\n",
       "    </tr>\n",
       "    <tr>\n",
       "      <th>28</th>\n",
       "      <td>Merrill E Gershwin</td>\n",
       "      <td>prof-hcomp</td>\n",
       "      <td>1154733.0</td>\n",
       "    </tr>\n",
       "    <tr>\n",
       "      <th>29</th>\n",
       "      <td>Gerald S Berke</td>\n",
       "      <td>prof-hcomp</td>\n",
       "      <td>1140981.0</td>\n",
       "    </tr>\n",
       "    <tr>\n",
       "      <th>30</th>\n",
       "      <td>Nicholas C Saenz</td>\n",
       "      <td>hs clin prof-hcomp</td>\n",
       "      <td>1130466.0</td>\n",
       "    </tr>\n",
       "    <tr>\n",
       "      <th>31</th>\n",
       "      <td>Isaac M Neuhaus</td>\n",
       "      <td>assoc prof of clin-hcomp</td>\n",
       "      <td>1124390.0</td>\n",
       "    </tr>\n",
       "    <tr>\n",
       "      <th>32</th>\n",
       "      <td>Neil A Martin</td>\n",
       "      <td>prof-hcomp</td>\n",
       "      <td>1124019.0</td>\n",
       "    </tr>\n",
       "    <tr>\n",
       "      <th>33</th>\n",
       "      <td>Michael W Mcdermott</td>\n",
       "      <td>prof in res-hcomp</td>\n",
       "      <td>1116652.0</td>\n",
       "    </tr>\n",
       "    <tr>\n",
       "      <th>34</th>\n",
       "      <td>John P Roberts</td>\n",
       "      <td>prof-hcomp</td>\n",
       "      <td>1116517.0</td>\n",
       "    </tr>\n",
       "    <tr>\n",
       "      <th>35</th>\n",
       "      <td>Michael L. Levy</td>\n",
       "      <td>prof of clin-hcomp</td>\n",
       "      <td>1096502.0</td>\n",
       "    </tr>\n",
       "    <tr>\n",
       "      <th>36</th>\n",
       "      <td>Gert Diederick Pretorius</td>\n",
       "      <td>hs assoc clin prof-hcomp</td>\n",
       "      <td>1087901.0</td>\n",
       "    </tr>\n",
       "    <tr>\n",
       "      <th>37</th>\n",
       "      <td>Christopher P Ames</td>\n",
       "      <td>prof of clin-hcomp</td>\n",
       "      <td>1079729.0</td>\n",
       "    </tr>\n",
       "    <tr>\n",
       "      <th>38</th>\n",
       "      <td>Ann Madden Rice</td>\n",
       "      <td>ceo med ctr</td>\n",
       "      <td>1079364.0</td>\n",
       "    </tr>\n",
       "    <tr>\n",
       "      <th>39</th>\n",
       "      <td>John Stuart Nelson</td>\n",
       "      <td>prof-hcomp</td>\n",
       "      <td>1073142.0</td>\n",
       "    </tr>\n",
       "    <tr>\n",
       "      <th>40</th>\n",
       "      <td>Joseph F Greco</td>\n",
       "      <td>hs assoc clin prof-hcomp</td>\n",
       "      <td>1027188.0</td>\n",
       "    </tr>\n",
       "    <tr>\n",
       "      <th>41</th>\n",
       "      <td>Scott M Lippman</td>\n",
       "      <td>prof-hcomp</td>\n",
       "      <td>1023059.0</td>\n",
       "    </tr>\n",
       "    <tr>\n",
       "      <th>42</th>\n",
       "      <td>Jay Moon Lee</td>\n",
       "      <td>assoc prof-hcomp</td>\n",
       "      <td>1019937.0</td>\n",
       "    </tr>\n",
       "    <tr>\n",
       "      <th>43</th>\n",
       "      <td>Praveen Mummaneni</td>\n",
       "      <td>prof of clin-hcomp</td>\n",
       "      <td>1014222.0</td>\n",
       "    </tr>\n",
       "    <tr>\n",
       "      <th>44</th>\n",
       "      <td>Frank P.K. Hsu</td>\n",
       "      <td>prof of clin-hcomp</td>\n",
       "      <td>1007475.0</td>\n",
       "    </tr>\n",
       "    <tr>\n",
       "      <th>45</th>\n",
       "      <td>Mitchel S Berger</td>\n",
       "      <td>prof-hcomp</td>\n",
       "      <td>1006482.0</td>\n",
       "    </tr>\n",
       "    <tr>\n",
       "      <th>46</th>\n",
       "      <td>Bryan M. Clary</td>\n",
       "      <td>prof-hcomp</td>\n",
       "      <td>1005880.0</td>\n",
       "    </tr>\n",
       "    <tr>\n",
       "      <th>47</th>\n",
       "      <td>Timothy J Fairbanks</td>\n",
       "      <td>hs assoc clin prof-hcomp</td>\n",
       "      <td>1005519.0</td>\n",
       "    </tr>\n",
       "    <tr>\n",
       "      <th>48</th>\n",
       "      <td>Michael H Rosove</td>\n",
       "      <td>hs clin prof-hcomp</td>\n",
       "      <td>1000452.0</td>\n",
       "    </tr>\n",
       "    <tr>\n",
       "      <th>49</th>\n",
       "      <td>Merry L Tetef</td>\n",
       "      <td>hs assoc clin prof-hcomp</td>\n",
       "      <td>999999.0</td>\n",
       "    </tr>\n",
       "  </tbody>\n",
       "</table>\n",
       "</div>"
      ],
      "text/plain": [
       "                        name                         job     salary\n",
       "0        James Lawrence Mora  intercol ath head coach ex  3577299.0\n",
       "1              Cuonzo Martin                head coach 5  2933098.0\n",
       "2               Daniel Dykes                head coach 5  2891233.0\n",
       "3        Stephen Todd Alford  intercol ath head coach ex  2721405.0\n",
       "4          Gordon Alan Cohen         hs clin instr-hcomp  2720796.0\n",
       "5          Ronald W Busuttil                  prof-hcomp  2482207.0\n",
       "6       Vadiyala Mohan Reddy              act prof-hcomp  1943521.0\n",
       "7        Timothy H Mccalmont          prof of clin-hcomp  1926941.0\n",
       "8             Eric Esrailian    hs assoc clin prof-hcomp  1837625.0\n",
       "9            Philip E Leboit          prof of clin-hcomp  1779457.0\n",
       "10         Robert N. Weinreb                  prof-hcomp  1626782.0\n",
       "11         Benjamin J Ansell          hs clin prof-hcomp  1615837.0\n",
       "12            Gary L Gitnick                  prof-hcomp  1599932.0\n",
       "13         Michael M. Madani          prof of clin-hcomp  1579002.0\n",
       "14            Khalil M Tabsh          hs clin prof-hcomp  1522723.0\n",
       "15       Naveen D Bhandarkar    assoc prof of clin-hcomp  1476956.0\n",
       "16        Brian G Derubertis    hs assoc clin prof-hcomp  1426581.0\n",
       "17            Abbas Ardehali                  prof-hcomp  1413454.0\n",
       "18          Dinesh K Chhetri           prof in res-hcomp  1377175.0\n",
       "19           Ehtisham Mahmud          prof of clin-hcomp  1356857.0\n",
       "20          Richard J Shemin                  prof-hcomp  1356682.0\n",
       "21           Jagdeep Bachher                chf inv ofcr  1330411.0\n",
       "22          Michael T Lawton           prof in res-hcomp  1286949.0\n",
       "23      Jeffrey Dong-Sun Suh    assoc prof of clin-hcomp  1286029.0\n",
       "24        Daniel H Geschwind           prof in res-hcomp  1249476.0\n",
       "25       Shang I Brian Jiang          hs clin prof-hcomp  1233021.0\n",
       "26              Mark R Laret                 ceo med ctr  1206918.0\n",
       "27             James M Heaps         hs clin instr-hcomp  1182265.0\n",
       "28        Merrill E Gershwin                  prof-hcomp  1154733.0\n",
       "29            Gerald S Berke                  prof-hcomp  1140981.0\n",
       "30          Nicholas C Saenz          hs clin prof-hcomp  1130466.0\n",
       "31           Isaac M Neuhaus    assoc prof of clin-hcomp  1124390.0\n",
       "32             Neil A Martin                  prof-hcomp  1124019.0\n",
       "33       Michael W Mcdermott           prof in res-hcomp  1116652.0\n",
       "34            John P Roberts                  prof-hcomp  1116517.0\n",
       "35           Michael L. Levy          prof of clin-hcomp  1096502.0\n",
       "36  Gert Diederick Pretorius    hs assoc clin prof-hcomp  1087901.0\n",
       "37        Christopher P Ames          prof of clin-hcomp  1079729.0\n",
       "38           Ann Madden Rice                 ceo med ctr  1079364.0\n",
       "39        John Stuart Nelson                  prof-hcomp  1073142.0\n",
       "40            Joseph F Greco    hs assoc clin prof-hcomp  1027188.0\n",
       "41           Scott M Lippman                  prof-hcomp  1023059.0\n",
       "42              Jay Moon Lee            assoc prof-hcomp  1019937.0\n",
       "43         Praveen Mummaneni          prof of clin-hcomp  1014222.0\n",
       "44            Frank P.K. Hsu          prof of clin-hcomp  1007475.0\n",
       "45          Mitchel S Berger                  prof-hcomp  1006482.0\n",
       "46            Bryan M. Clary                  prof-hcomp  1005880.0\n",
       "47       Timothy J Fairbanks    hs assoc clin prof-hcomp  1005519.0\n",
       "48          Michael H Rosove          hs clin prof-hcomp  1000452.0\n",
       "49             Merry L Tetef    hs assoc clin prof-hcomp   999999.0"
      ]
     },
     "execution_count": 15,
     "metadata": {},
     "output_type": "execute_result"
    }
   ],
   "source": [
    "df_staff"
   ]
  },
  {
   "cell_type": "code",
   "execution_count": null,
   "metadata": {
    "collapsed": true
   },
   "outputs": [],
   "source": []
  }
 ],
 "metadata": {
  "anaconda-cloud": {},
  "kernelspec": {
   "display_name": "Python [Root]",
   "language": "python",
   "name": "Python [Root]"
  },
  "language_info": {
   "codemirror_mode": {
    "name": "ipython",
    "version": 3
   },
   "file_extension": ".py",
   "mimetype": "text/x-python",
   "name": "python",
   "nbconvert_exporter": "python",
   "pygments_lexer": "ipython3",
   "version": "3.5.2"
  }
 },
 "nbformat": 4,
 "nbformat_minor": 0
}

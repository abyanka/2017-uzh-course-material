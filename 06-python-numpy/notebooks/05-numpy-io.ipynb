{
 "cells": [
  {
   "cell_type": "markdown",
   "metadata": {},
   "source": [
    "## Numpy I/O\n",
    "\n",
    "Once we are constructing and computing on arrays, at some point we might want to save our results. We may also be interested in importing an existing array ir data from our files to work on.\n",
    "\n",
    "This notebook looks into methods to do this:"
   ]
  },
  {
   "cell_type": "code",
   "execution_count": 1,
   "metadata": {
    "collapsed": true
   },
   "outputs": [],
   "source": [
    "import numpy as np"
   ]
  },
  {
   "cell_type": "markdown",
   "metadata": {},
   "source": [
    "## Saving textfiles with savetxt\n",
    "\n",
    "The simplest way to save an array is to write it out to a plain text file. NumPy's `savetext` function allows us to do this easily:"
   ]
  },
  {
   "cell_type": "code",
   "execution_count": 2,
   "metadata": {
    "collapsed": true
   },
   "outputs": [],
   "source": [
    "x = np.array([[1, 2, 3], \n",
    "              [4, 5, 6],\n",
    "              [7, 8, 9]], np.int32)\n",
    "np.savetxt(\"test.txt\", x)"
   ]
  },
  {
   "cell_type": "markdown",
   "metadata": {},
   "source": [
    "We can verify that the array was saved by using a shell command within our python / jupyter session:"
   ]
  },
  {
   "cell_type": "code",
   "execution_count": 3,
   "metadata": {
    "collapsed": false
   },
   "outputs": [
    {
     "name": "stdout",
     "output_type": "stream",
     "text": [
      "test2.txt  test3.txt  test4.txt  test.txt  weather.txt\r\n"
     ]
    }
   ],
   "source": [
    "!ls *.txt"
   ]
  },
  {
   "cell_type": "markdown",
   "metadata": {},
   "source": [
    "The savetxt function gives us a lot of flexibility. For example we can choose how many significant digits we want to save, and how we want the text file representation to separate the individual elements:"
   ]
  },
  {
   "cell_type": "code",
   "execution_count": 4,
   "metadata": {
    "collapsed": true
   },
   "outputs": [],
   "source": [
    "np.savetxt(\"test2.txt\", x, fmt=\"%2.3f\", delimiter=\",\")\n",
    "np.savetxt(\"test3.txt\", x, fmt=\"%04d\", delimiter=\" :-) \")"
   ]
  },
  {
   "cell_type": "code",
   "execution_count": 5,
   "metadata": {
    "collapsed": false
   },
   "outputs": [
    {
     "name": "stdout",
     "output_type": "stream",
     "text": [
      "test2.txt  test3.txt  test4.txt  test.txt  weather.txt\r\n"
     ]
    }
   ],
   "source": [
    "!ls *.txt"
   ]
  },
  {
   "cell_type": "code",
   "execution_count": 6,
   "metadata": {
    "collapsed": false
   },
   "outputs": [
    {
     "name": "stdout",
     "output_type": "stream",
     "text": [
      "==> test.txt <==\r\n",
      "1.000000000000000000e+00 2.000000000000000000e+00 3.000000000000000000e+00\r\n",
      "4.000000000000000000e+00 5.000000000000000000e+00 6.000000000000000000e+00\r\n",
      "7.000000000000000000e+00 8.000000000000000000e+00 9.000000000000000000e+00\r\n",
      "\r\n",
      "==> test2.txt <==\r\n",
      "1.000,2.000,3.000\r\n",
      "4.000,5.000,6.000\r\n",
      "7.000,8.000,9.000\r\n",
      "\r\n",
      "==> test3.txt <==\r\n",
      "0001 :-) 0002 :-) 0003\r\n",
      "0004 :-) 0005 :-) 0006\r\n",
      "0007 :-) 0008 :-) 0009\r\n",
      "\r\n",
      "==> test4.txt <==\r\n",
      "## this is a header\r\n",
      "1.000,2.000,3.000\r\n",
      "4.000,5.000,6.000\r\n",
      "7.000,8.000,9.000\r\n",
      "## and a footer\r\n",
      "\r\n",
      "==> weather.txt <==\r\n",
      "## The seven days centered around the largest temperature change\r\n",
      "1.00,2.00,3.00\r\n",
      "4.00,5.00,6.00\r\n",
      "7.00,8.00,9.00\r\n"
     ]
    }
   ],
   "source": [
    "!head *.txt"
   ]
  },
  {
   "cell_type": "markdown",
   "metadata": {},
   "source": [
    "We can also tell NumPy how we want new lines to be stores, and can add comments at the beginning and end of the array that will not be read in back in when we load the data."
   ]
  },
  {
   "cell_type": "code",
   "execution_count": 7,
   "metadata": {
    "collapsed": true
   },
   "outputs": [],
   "source": [
    "# or to go over the top\n",
    "np.savetxt('test4.txt', x, fmt='%2.3f', delimiter=',', \n",
    "               newline='\\n', header='this is a header', \n",
    "               footer='and a footer', comments='## ')\n"
   ]
  },
  {
   "cell_type": "code",
   "execution_count": 8,
   "metadata": {
    "collapsed": false
   },
   "outputs": [
    {
     "name": "stdout",
     "output_type": "stream",
     "text": [
      "## this is a header\r\n",
      "1.000,2.000,3.000\r\n",
      "4.000,5.000,6.000\r\n",
      "7.000,8.000,9.000\r\n",
      "## and a footer\r\n"
     ]
    }
   ],
   "source": [
    "!head test4.txt"
   ]
  },
  {
   "cell_type": "markdown",
   "metadata": {},
   "source": [
    "## Loading Textfiles with loadtxt\n",
    "\n",
    "Now we have seen how to write an array to a file, unsuprisingly there is a `loadtxt` file that allows us to read in an array from a plain text file too:"
   ]
  },
  {
   "cell_type": "code",
   "execution_count": 9,
   "metadata": {
    "collapsed": false
   },
   "outputs": [
    {
     "name": "stdout",
     "output_type": "stream",
     "text": [
      "[[ 1.  2.  3.]\n",
      " [ 4.  5.  6.]\n",
      " [ 7.  8.  9.]]\n"
     ]
    }
   ],
   "source": [
    "y = np.loadtxt(\"test.txt\")\n",
    "print(y)"
   ]
  },
  {
   "cell_type": "markdown",
   "metadata": {},
   "source": [
    "It has similar functionality, where we can specify the characters used to delimit the individual elements:"
   ]
  },
  {
   "cell_type": "code",
   "execution_count": 10,
   "metadata": {
    "collapsed": false
   },
   "outputs": [
    {
     "name": "stdout",
     "output_type": "stream",
     "text": [
      "[[ 1.  2.  3.]\n",
      " [ 4.  5.  6.]\n",
      " [ 7.  8.  9.]]\n"
     ]
    }
   ],
   "source": [
    "y = np.loadtxt(\"test2.txt\", delimiter=\",\")\n",
    "print(y)"
   ]
  },
  {
   "cell_type": "code",
   "execution_count": 11,
   "metadata": {
    "collapsed": false
   },
   "outputs": [
    {
     "name": "stdout",
     "output_type": "stream",
     "text": [
      "[[ 1.  2.  3.]\n",
      " [ 4.  5.  6.]\n",
      " [ 7.  8.  9.]]\n"
     ]
    }
   ],
   "source": [
    "y = np.loadtxt(\"test3.txt\", delimiter=\" :-) \")\n",
    "print(y)"
   ]
  },
  {
   "cell_type": "markdown",
   "metadata": {},
   "source": [
    "And we can also tell NumPy the data type that we want the individual elements to be once they are read in:"
   ]
  },
  {
   "cell_type": "code",
   "execution_count": 12,
   "metadata": {
    "collapsed": false
   },
   "outputs": [
    {
     "data": {
      "text/plain": [
       "array([[ 1.+0.j,  2.+0.j,  3.+0.j],\n",
       "       [ 4.+0.j,  5.+0.j,  6.+0.j],\n",
       "       [ 7.+0.j,  8.+0.j,  9.+0.j]])"
      ]
     },
     "execution_count": 12,
     "metadata": {},
     "output_type": "execute_result"
    }
   ],
   "source": [
    "y = np.loadtxt(\"test4.txt\", delimiter=\",\", dtype='complex')\n",
    "y"
   ]
  },
  {
   "cell_type": "markdown",
   "metadata": {},
   "source": [
    "We can also read in parts of an array by selecting the columns to read in, and whether we want the results to be read into one large array or unpacked into multiple:"
   ]
  },
  {
   "cell_type": "code",
   "execution_count": 13,
   "metadata": {
    "collapsed": true
   },
   "outputs": [],
   "source": [
    "y,z = np.loadtxt('test4.txt', delimiter=',', usecols=(0, 2), unpack=True)"
   ]
  },
  {
   "cell_type": "code",
   "execution_count": 14,
   "metadata": {
    "collapsed": false
   },
   "outputs": [
    {
     "name": "stdout",
     "output_type": "stream",
     "text": [
      "[ 1.  4.  7.] [ 3.  6.  9.]\n"
     ]
    }
   ],
   "source": [
    "print(y,z)"
   ]
  },
  {
   "cell_type": "markdown",
   "metadata": {},
   "source": [
    "## with genfrmtxt"
   ]
  },
  {
   "cell_type": "markdown",
   "metadata": {
    "collapsed": true
   },
   "source": [
    "Since NumPy 0.12, the preferred way to read in an array from a file is with `genfrmtxt` rather than `loadtxt`. The functionality looks the same:"
   ]
  },
  {
   "cell_type": "code",
   "execution_count": 15,
   "metadata": {
    "collapsed": false
   },
   "outputs": [
    {
     "data": {
      "text/plain": [
       "array([[ 1.,  2.,  3.],\n",
       "       [ 4.,  5.,  6.],\n",
       "       [ 7.,  8.,  9.]])"
      ]
     },
     "execution_count": 15,
     "metadata": {},
     "output_type": "execute_result"
    }
   ],
   "source": [
    "np.genfromtxt('test4.txt', delimiter=\",\")"
   ]
  },
  {
   "cell_type": "code",
   "execution_count": 16,
   "metadata": {
    "collapsed": false
   },
   "outputs": [
    {
     "data": {
      "text/plain": [
       "array([ 4.,  6.])"
      ]
     },
     "execution_count": 16,
     "metadata": {},
     "output_type": "execute_result"
    }
   ],
   "source": [
    "np.genfromtxt('test4.txt', delimiter=',', \n",
    "                  skip_header=2, skip_footer=1, \n",
    "                  usecols=(0, -1))"
   ]
  },
  {
   "cell_type": "code",
   "execution_count": 17,
   "metadata": {
    "collapsed": false
   },
   "outputs": [
    {
     "data": {
      "text/plain": [
       "array((-1,  6.),\n",
       "      dtype=[('A', '<i8'), ('C', '<f8')])"
      ]
     },
     "execution_count": 17,
     "metadata": {},
     "output_type": "execute_result"
    }
   ],
   "source": [
    "np.genfromtxt('test4.txt', delimiter=',', \n",
    "                  skip_header=2, skip_footer=1, \n",
    "                  usecols=(0, -1), \n",
    "                  names=\"A, C\", dtype=['int', 'float'] )"
   ]
  },
  {
   "cell_type": "markdown",
   "metadata": {},
   "source": [
    "## Using NumPy's native format\n",
    "\n",
    "We have so far focussed on saving an array to a plain text file - and most of the time this is the recommended way to go. Sometimes however, we may want to save and load the output from NumPy's own binary format `.npy`\n",
    "\n",
    "The functions to do this are straight forwards:"
   ]
  },
  {
   "cell_type": "code",
   "execution_count": 18,
   "metadata": {
    "collapsed": true
   },
   "outputs": [],
   "source": [
    "np.save('x_mat.npy', x)"
   ]
  },
  {
   "cell_type": "markdown",
   "metadata": {},
   "source": [
    "Note that in this case we cannot see into the array using standard tools because the array is written in NumPy's binary format:"
   ]
  },
  {
   "cell_type": "code",
   "execution_count": 19,
   "metadata": {
    "collapsed": false
   },
   "outputs": [
    {
     "name": "stdout",
     "output_type": "stream",
     "text": [
      "�NUMPY\u0001\u0000F\u0000{'descr': '<i4', 'fortran_order': False, 'shape': (3, 3), }          \r\n",
      "\u0001\u0000\u0000\u0000\u0002\u0000\u0000\u0000\u0003\u0000\u0000\u0000\u0004\u0000\u0000\u0000\u0005\u0000\u0000\u0000\u0006\u0000\u0000\u0000\u0007\u0000\u0000\u0000\b\u0000\u0000\u0000\t\u0000\u0000\u0000"
     ]
    }
   ],
   "source": [
    "!head *.npy"
   ]
  },
  {
   "cell_type": "markdown",
   "metadata": {},
   "source": [
    "If you get an array saved as `.npy` - we can readily load it back into our session with:"
   ]
  },
  {
   "cell_type": "code",
   "execution_count": 20,
   "metadata": {
    "collapsed": false
   },
   "outputs": [
    {
     "data": {
      "text/plain": [
       "array([[1, 2, 3],\n",
       "       [4, 5, 6],\n",
       "       [7, 8, 9]], dtype=int32)"
      ]
     },
     "execution_count": 20,
     "metadata": {},
     "output_type": "execute_result"
    }
   ],
   "source": [
    "np.load('x_mat.npy')"
   ]
  },
  {
   "cell_type": "markdown",
   "metadata": {},
   "source": [
    "## Challenge"
   ]
  },
  {
   "cell_type": "markdown",
   "metadata": {},
   "source": [
    "Let's use our combined tools of aggregate functions and loading and saving text data to analyse some weather data from ZRH airport. The data are contained in the file `../data/zrh_weather.txt` in this repository.\n",
    "\n",
    "1. load the data for the maximum, mean and minimum temperature into a numpy array called weather. Also load in the dates using the code excerpt at the bottom of these questions (adding the necessary information filled in with XX's):\n",
    "2. Find the hottest temperature at Zurich airport over the duration of the data\n",
    "3. On what date did the hottest temperature occur? (Did it happen only once?)\n",
    "4. On what date did the minimum temperature occur?\n",
    "5. On what date was the largest difference between the maximum and the minimum temperature?\n",
    "6. Save the maximum, mean and minimum temperature to the file `weather_changes.txt` for the week around the date of the largest temperature difference. In the file you save write a header that says \"The seven days centered around the largest temperature change\", ensuring that line begins with a triple #.\n",
    "\n",
    "```python\n",
    "from datetime import datetime\n",
    "\n",
    "str2date = lambda x: datetime.strptime(x.decode(\"utf-8\"), '%Y-%m-%d')\n",
    "\n",
    "\n",
    "dates = np.genfromtxt('XXX', delimiter='XXX',\n",
    "                      skip_header=XXX, usecols=(XXX),\n",
    "                     dtype='object').astype(str)\n",
    "```"
   ]
  },
  {
   "cell_type": "code",
   "execution_count": 21,
   "metadata": {
    "collapsed": false
   },
   "outputs": [
    {
     "name": "stdout",
     "output_type": "stream",
     "text": [
      "\"Date\"&\"CEST\"&\"Max_TemperatureC\"&\"Mean_TemperatureC\"&\"Min_TemperatureC\"&\"Dew_PointC\"&\"MeanDew_PointC\"&\"Min_DewpointC\"&\"Max_Humidity\"&\"Mean_Humidity\"&\"Min_Humidity\"&\"Max_Sea_Level_PressurehPa\"&\"Mean_Sea_Level_PressurehPa\"&\"Min_Sea_Level_PressurehPa\"&\"Max_VisibilityKm\"&\"Mean_VisibilityKm\"&\"Min_VisibilitykM\"&\"Max_Wind_SpeedKm_h\"&\"Mean_Wind_SpeedKm_h\"&\"Max_Gust_SpeedKm_h\"&\"Precipitationmm\"&\"CloudCover\"&\"Events\"&\"WindDirDegrees\"\r\n"
     ]
    }
   ],
   "source": [
    "!head -1 ../data/zrh_weather.txt"
   ]
  },
  {
   "cell_type": "code",
   "execution_count": 22,
   "metadata": {
    "collapsed": false
   },
   "outputs": [],
   "source": [
    "weather = np.genfromtxt('../data/zrh_weather.txt', delimiter='&', \n",
    "                        skip_header=1, usecols=(3,4,5)) "
   ]
  },
  {
   "cell_type": "code",
   "execution_count": 24,
   "metadata": {
    "collapsed": true
   },
   "outputs": [],
   "source": [
    "from datetime import datetime\n",
    "\n",
    "str2date = lambda x: datetime.strptime(x.decode(\"utf-8\"), '%Y-%m-%d')\n",
    "\n",
    "\n",
    "dates = np.genfromtxt('../data/zrh_weather.txt', delimiter='&',\n",
    "                      skip_header=1, usecols=(1),\n",
    "                     dtype='object').astype(str)\n"
   ]
  },
  {
   "cell_type": "code",
   "execution_count": 25,
   "metadata": {
    "collapsed": false
   },
   "outputs": [
    {
     "data": {
      "text/plain": [
       "34.0"
      ]
     },
     "execution_count": 25,
     "metadata": {},
     "output_type": "execute_result"
    }
   ],
   "source": [
    "# max temperature\n",
    "np.max(weather[:,0], axis=0)"
   ]
  },
  {
   "cell_type": "code",
   "execution_count": 26,
   "metadata": {
    "collapsed": false
   },
   "outputs": [
    {
     "data": {
      "text/plain": [
       "'2017-07-06'"
      ]
     },
     "execution_count": 26,
     "metadata": {},
     "output_type": "execute_result"
    }
   ],
   "source": [
    "# (first) date of max temperature:\n",
    "dates[np.argmax(weather[:,0], axis=0)]"
   ]
  },
  {
   "cell_type": "code",
   "execution_count": 27,
   "metadata": {
    "collapsed": false
   },
   "outputs": [
    {
     "data": {
      "text/plain": [
       "(array([ 13.,  14.,  18.,  19.,  20.,  21.,  22.,  24.,  25.,  26.,  27.,\n",
       "         28.,  29.,  30.,  31.,  32.,  34.]),\n",
       " array([1, 1, 2, 1, 1, 6, 5, 7, 1, 3, 5, 6, 3, 1, 3, 3, 2]))"
      ]
     },
     "execution_count": 27,
     "metadata": {},
     "output_type": "execute_result"
    }
   ],
   "source": [
    "np.unique(weather[:,0], return_counts=True)"
   ]
  },
  {
   "cell_type": "code",
   "execution_count": 28,
   "metadata": {
    "collapsed": false
   },
   "outputs": [
    {
     "data": {
      "text/plain": [
       "'2017-08-10'"
      ]
     },
     "execution_count": 28,
     "metadata": {},
     "output_type": "execute_result"
    }
   ],
   "source": [
    "# min temperature\n",
    "dates[np.argmin(weather[:,0], axis=0)]"
   ]
  },
  {
   "cell_type": "code",
   "execution_count": 29,
   "metadata": {
    "collapsed": false
   },
   "outputs": [
    {
     "data": {
      "text/plain": [
       "20.0"
      ]
     },
     "execution_count": 29,
     "metadata": {},
     "output_type": "execute_result"
    }
   ],
   "source": [
    "# largest change\n",
    "np.max(weather[:,0] - weather[:,2], axis=0)"
   ]
  },
  {
   "cell_type": "code",
   "execution_count": 30,
   "metadata": {
    "collapsed": false
   },
   "outputs": [
    {
     "data": {
      "text/plain": [
       "'2017-07-05'"
      ]
     },
     "execution_count": 30,
     "metadata": {},
     "output_type": "execute_result"
    }
   ],
   "source": [
    "dates[np.argmax(weather[:,0] - weather[:,2], axis=0)]"
   ]
  },
  {
   "cell_type": "code",
   "execution_count": 31,
   "metadata": {
    "collapsed": false
   },
   "outputs": [
    {
     "data": {
      "text/plain": [
       "array([ 31.,  21.,  11.])"
      ]
     },
     "execution_count": 31,
     "metadata": {},
     "output_type": "execute_result"
    }
   ],
   "source": [
    "# what was the max, min and mean temp on that day\n",
    "weather[np.argmax(weather[:,0]- weather[:,2]),]"
   ]
  },
  {
   "cell_type": "code",
   "execution_count": 32,
   "metadata": {
    "collapsed": false
   },
   "outputs": [
    {
     "data": {
      "text/plain": [
       "4"
      ]
     },
     "execution_count": 32,
     "metadata": {},
     "output_type": "execute_result"
    }
   ],
   "source": [
    "reference_index = np.argmax(weather[:,0]- weather[:,2])\n",
    "reference_index"
   ]
  },
  {
   "cell_type": "code",
   "execution_count": 33,
   "metadata": {
    "collapsed": false
   },
   "outputs": [],
   "source": [
    "weather_changes = weather[reference_index-3:reference_index+4 , 0:2]"
   ]
  },
  {
   "cell_type": "code",
   "execution_count": 34,
   "metadata": {
    "collapsed": true
   },
   "outputs": [],
   "source": [
    "np.savetxt('weather.txt', x, fmt='%2.2f', delimiter=',', \n",
    "               newline='\\n', \n",
    "               header='The seven days centered around the largest temperature change', \n",
    "               comments='## ')"
   ]
  },
  {
   "cell_type": "markdown",
   "metadata": {},
   "source": [
    "## Additional Reference:\n",
    "\n",
    "http://www.python-course.eu/numpy_reading_writing.php\n",
    "https://docs.scipy.org/doc/numpy-1.12.0/user/basics.io.genfromtxt.html"
   ]
  },
  {
   "cell_type": "code",
   "execution_count": null,
   "metadata": {
    "collapsed": true
   },
   "outputs": [],
   "source": []
  },
  {
   "cell_type": "code",
   "execution_count": null,
   "metadata": {
    "collapsed": true
   },
   "outputs": [],
   "source": []
  }
 ],
 "metadata": {
  "anaconda-cloud": {},
  "kernelspec": {
   "display_name": "Python [Root]",
   "language": "python",
   "name": "Python [Root]"
  },
  "language_info": {
   "codemirror_mode": {
    "name": "ipython",
    "version": 3
   },
   "file_extension": ".py",
   "mimetype": "text/x-python",
   "name": "python",
   "nbconvert_exporter": "python",
   "pygments_lexer": "ipython3",
   "version": "3.5.2"
  }
 },
 "nbformat": 4,
 "nbformat_minor": 2
}

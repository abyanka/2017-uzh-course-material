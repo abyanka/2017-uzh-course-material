{
 "cells": [
  {
   "cell_type": "markdown",
   "metadata": {},
   "source": [
    "## Hard-Coding the OLS estimator with NumPy and SciPy\n",
    "\n",
    "Now we have some familarity with NumPy and SciPy, let's look at some examples of using them in practice.\n",
    "\n",
    "The first one will be probably my 'favourite' example - in my 4th year undergrad metrics class we computed OLS by hand in MATLAB using the dataset from Mankiw, Romer and Weil. We will do this in Python. "
   ]
  },
  {
   "cell_type": "code",
   "execution_count": 1,
   "metadata": {
    "collapsed": true
   },
   "outputs": [],
   "source": [
    "import numpy as np\n",
    "import pandas as pd\n",
    "from scipy import linalg as la"
   ]
  },
  {
   "cell_type": "code",
   "execution_count": null,
   "metadata": {
    "collapsed": true
   },
   "outputs": [],
   "source": []
  },
  {
   "cell_type": "markdown",
   "metadata": {},
   "source": [
    "## Import the data\n",
    "\n",
    "The data are in STATA native format, so we import with Pandas (we discuss this whole thing later)"
   ]
  },
  {
   "cell_type": "code",
   "execution_count": 2,
   "metadata": {
    "collapsed": false
   },
   "outputs": [
    {
     "data": {
      "text/html": [
       "<div>\n",
       "<table border=\"1\" class=\"dataframe\">\n",
       "  <thead>\n",
       "    <tr style=\"text-align: right;\">\n",
       "      <th></th>\n",
       "      <th>c_index</th>\n",
       "      <th>c_name</th>\n",
       "      <th>c_code</th>\n",
       "      <th>cont</th>\n",
       "      <th>nonoil</th>\n",
       "      <th>inter</th>\n",
       "      <th>oecd</th>\n",
       "      <th>gdp60</th>\n",
       "      <th>gdp85</th>\n",
       "      <th>popgrowth</th>\n",
       "      <th>igdp</th>\n",
       "      <th>school</th>\n",
       "    </tr>\n",
       "  </thead>\n",
       "  <tbody>\n",
       "    <tr>\n",
       "      <th>0</th>\n",
       "      <td>1</td>\n",
       "      <td>Algeria</td>\n",
       "      <td>DZA</td>\n",
       "      <td>Africa</td>\n",
       "      <td>Non-oil</td>\n",
       "      <td>Intermediate Sample</td>\n",
       "      <td>Non-OECD</td>\n",
       "      <td>2485.0</td>\n",
       "      <td>4371.0</td>\n",
       "      <td>2.6</td>\n",
       "      <td>24.100000</td>\n",
       "      <td>4.5</td>\n",
       "    </tr>\n",
       "    <tr>\n",
       "      <th>1</th>\n",
       "      <td>2</td>\n",
       "      <td>Angola</td>\n",
       "      <td>AGO</td>\n",
       "      <td>Africa</td>\n",
       "      <td>Non-oil</td>\n",
       "      <td>Not intermediate sample</td>\n",
       "      <td>Non-OECD</td>\n",
       "      <td>1588.0</td>\n",
       "      <td>1171.0</td>\n",
       "      <td>2.1</td>\n",
       "      <td>5.800000</td>\n",
       "      <td>1.8</td>\n",
       "    </tr>\n",
       "    <tr>\n",
       "      <th>2</th>\n",
       "      <td>3</td>\n",
       "      <td>Benin</td>\n",
       "      <td>BEN</td>\n",
       "      <td>Africa</td>\n",
       "      <td>Non-oil</td>\n",
       "      <td>Not intermediate sample</td>\n",
       "      <td>Non-OECD</td>\n",
       "      <td>1116.0</td>\n",
       "      <td>1071.0</td>\n",
       "      <td>2.4</td>\n",
       "      <td>10.800000</td>\n",
       "      <td>1.8</td>\n",
       "    </tr>\n",
       "    <tr>\n",
       "      <th>3</th>\n",
       "      <td>4</td>\n",
       "      <td>Botswana</td>\n",
       "      <td>BWA</td>\n",
       "      <td>Africa</td>\n",
       "      <td>Non-oil</td>\n",
       "      <td>Intermediate Sample</td>\n",
       "      <td>Non-OECD</td>\n",
       "      <td>959.0</td>\n",
       "      <td>3671.0</td>\n",
       "      <td>3.2</td>\n",
       "      <td>28.299999</td>\n",
       "      <td>2.9</td>\n",
       "    </tr>\n",
       "    <tr>\n",
       "      <th>4</th>\n",
       "      <td>5</td>\n",
       "      <td>Burkina Faso</td>\n",
       "      <td>BFA</td>\n",
       "      <td>Africa</td>\n",
       "      <td>Non-oil</td>\n",
       "      <td>Not intermediate sample</td>\n",
       "      <td>Non-OECD</td>\n",
       "      <td>529.0</td>\n",
       "      <td>857.0</td>\n",
       "      <td>0.9</td>\n",
       "      <td>12.700000</td>\n",
       "      <td>0.4</td>\n",
       "    </tr>\n",
       "  </tbody>\n",
       "</table>\n",
       "</div>"
      ],
      "text/plain": [
       "   c_index        c_name c_code    cont   nonoil                    inter  \\\n",
       "0        1       Algeria    DZA  Africa  Non-oil      Intermediate Sample   \n",
       "1        2        Angola    AGO  Africa  Non-oil  Not intermediate sample   \n",
       "2        3         Benin    BEN  Africa  Non-oil  Not intermediate sample   \n",
       "3        4      Botswana    BWA  Africa  Non-oil      Intermediate Sample   \n",
       "4        5  Burkina Faso    BFA  Africa  Non-oil  Not intermediate sample   \n",
       "\n",
       "       oecd   gdp60   gdp85  popgrowth       igdp  school  \n",
       "0  Non-OECD  2485.0  4371.0        2.6  24.100000     4.5  \n",
       "1  Non-OECD  1588.0  1171.0        2.1   5.800000     1.8  \n",
       "2  Non-OECD  1116.0  1071.0        2.4  10.800000     1.8  \n",
       "3  Non-OECD   959.0  3671.0        3.2  28.299999     2.9  \n",
       "4  Non-OECD   529.0   857.0        0.9  12.700000     0.4  "
      ]
     },
     "execution_count": 2,
     "metadata": {},
     "output_type": "execute_result"
    }
   ],
   "source": [
    "data = pd.read_stata('../data/mrw1992.dta')\n",
    "data.head()"
   ]
  },
  {
   "cell_type": "markdown",
   "metadata": {},
   "source": [
    "Question: Why couldnt we import that as a NumPy array?"
   ]
  },
  {
   "cell_type": "code",
   "execution_count": 3,
   "metadata": {
    "collapsed": false
   },
   "outputs": [
    {
     "data": {
      "text/html": [
       "<div>\n",
       "<table border=\"1\" class=\"dataframe\">\n",
       "  <thead>\n",
       "    <tr style=\"text-align: right;\">\n",
       "      <th></th>\n",
       "      <th>c_index</th>\n",
       "      <th>c_name</th>\n",
       "      <th>c_code</th>\n",
       "      <th>cont</th>\n",
       "      <th>nonoil</th>\n",
       "      <th>inter</th>\n",
       "      <th>oecd</th>\n",
       "      <th>gdp60</th>\n",
       "      <th>gdp85</th>\n",
       "      <th>popgrowth</th>\n",
       "      <th>igdp</th>\n",
       "      <th>school</th>\n",
       "    </tr>\n",
       "  </thead>\n",
       "  <tbody>\n",
       "    <tr>\n",
       "      <th>52</th>\n",
       "      <td>53</td>\n",
       "      <td>Japan</td>\n",
       "      <td>JPN</td>\n",
       "      <td>Asia</td>\n",
       "      <td>Non-oil</td>\n",
       "      <td>Intermediate Sample</td>\n",
       "      <td>OECD</td>\n",
       "      <td>3493.0</td>\n",
       "      <td>13893.0</td>\n",
       "      <td>1.2</td>\n",
       "      <td>36.000000</td>\n",
       "      <td>10.9</td>\n",
       "    </tr>\n",
       "    <tr>\n",
       "      <th>69</th>\n",
       "      <td>70</td>\n",
       "      <td>Austria</td>\n",
       "      <td>AUT</td>\n",
       "      <td>Europe</td>\n",
       "      <td>Non-oil</td>\n",
       "      <td>Intermediate Sample</td>\n",
       "      <td>OECD</td>\n",
       "      <td>5939.0</td>\n",
       "      <td>13327.0</td>\n",
       "      <td>0.4</td>\n",
       "      <td>23.400000</td>\n",
       "      <td>8.0</td>\n",
       "    </tr>\n",
       "    <tr>\n",
       "      <th>70</th>\n",
       "      <td>71</td>\n",
       "      <td>Belgium</td>\n",
       "      <td>BEL</td>\n",
       "      <td>Europe</td>\n",
       "      <td>Non-oil</td>\n",
       "      <td>Intermediate Sample</td>\n",
       "      <td>OECD</td>\n",
       "      <td>6789.0</td>\n",
       "      <td>14290.0</td>\n",
       "      <td>0.5</td>\n",
       "      <td>23.400000</td>\n",
       "      <td>9.3</td>\n",
       "    </tr>\n",
       "    <tr>\n",
       "      <th>72</th>\n",
       "      <td>73</td>\n",
       "      <td>Denmark</td>\n",
       "      <td>DNK</td>\n",
       "      <td>Europe</td>\n",
       "      <td>Non-oil</td>\n",
       "      <td>Intermediate Sample</td>\n",
       "      <td>OECD</td>\n",
       "      <td>8551.0</td>\n",
       "      <td>16491.0</td>\n",
       "      <td>0.6</td>\n",
       "      <td>26.600000</td>\n",
       "      <td>10.7</td>\n",
       "    </tr>\n",
       "    <tr>\n",
       "      <th>73</th>\n",
       "      <td>74</td>\n",
       "      <td>Finland</td>\n",
       "      <td>FIN</td>\n",
       "      <td>Europe</td>\n",
       "      <td>Non-oil</td>\n",
       "      <td>Intermediate Sample</td>\n",
       "      <td>OECD</td>\n",
       "      <td>6527.0</td>\n",
       "      <td>13779.0</td>\n",
       "      <td>0.7</td>\n",
       "      <td>36.900002</td>\n",
       "      <td>11.5</td>\n",
       "    </tr>\n",
       "  </tbody>\n",
       "</table>\n",
       "</div>"
      ],
      "text/plain": [
       "    c_index   c_name c_code    cont   nonoil                inter  oecd  \\\n",
       "52       53    Japan    JPN    Asia  Non-oil  Intermediate Sample  OECD   \n",
       "69       70  Austria    AUT  Europe  Non-oil  Intermediate Sample  OECD   \n",
       "70       71  Belgium    BEL  Europe  Non-oil  Intermediate Sample  OECD   \n",
       "72       73  Denmark    DNK  Europe  Non-oil  Intermediate Sample  OECD   \n",
       "73       74  Finland    FIN  Europe  Non-oil  Intermediate Sample  OECD   \n",
       "\n",
       "     gdp60    gdp85  popgrowth       igdp  school  \n",
       "52  3493.0  13893.0        1.2  36.000000    10.9  \n",
       "69  5939.0  13327.0        0.4  23.400000     8.0  \n",
       "70  6789.0  14290.0        0.5  23.400000     9.3  \n",
       "72  8551.0  16491.0        0.6  26.600000    10.7  \n",
       "73  6527.0  13779.0        0.7  36.900002    11.5  "
      ]
     },
     "execution_count": 3,
     "metadata": {},
     "output_type": "execute_result"
    }
   ],
   "source": [
    "# subset OECD data\n",
    "oecd = data[data['oecd']=='OECD']\n",
    "oecd.head()"
   ]
  },
  {
   "cell_type": "markdown",
   "metadata": {},
   "source": [
    "Now we want to generate some dependent and independent variables...\n",
    "\n",
    "* MRW use 'growth' as the dependent variable\n",
    "* Independent variables are 'popgrowth', 'igdp', 'school' and 'lngdp60'"
   ]
  },
  {
   "cell_type": "code",
   "execution_count": 4,
   "metadata": {
    "collapsed": true
   },
   "outputs": [],
   "source": [
    "# extract the dependent variable\n",
    "\n",
    "gdp_data = oecd[['gdp60', 'gdp85']].values\n",
    "\n",
    "y = (np.log(gdp_data[:,1]) - np.log(gdp_data[:,0])) / 25"
   ]
  },
  {
   "cell_type": "code",
   "execution_count": 5,
   "metadata": {
    "collapsed": false
   },
   "outputs": [
    {
     "name": "stdout",
     "output_type": "stream",
     "text": [
      "[ 0.05522499  0.03233005  0.02977024  0.02627068  0.02988792  0.02934746\n",
      "  0.02748344  0.04451345  0.02705376  0.0325375   0.02154728  0.03640495\n",
      "  0.03767366  0.03867298  0.02677387  0.01728809  0.02680057  0.02229919\n",
      "  0.02223881  0.0171672   0.01851776  0.01026157]\n"
     ]
    }
   ],
   "source": [
    "print(y)"
   ]
  },
  {
   "cell_type": "code",
   "execution_count": 6,
   "metadata": {
    "collapsed": true
   },
   "outputs": [],
   "source": [
    "expl_var = oecd[['popgrowth', 'igdp', 'school']].values"
   ]
  },
  {
   "cell_type": "code",
   "execution_count": 7,
   "metadata": {
    "collapsed": false
   },
   "outputs": [],
   "source": [
    "nObs = np.shape(y)[0]\n",
    "iota = np.ones(nObs).reshape((nObs,1))"
   ]
  },
  {
   "cell_type": "code",
   "execution_count": 8,
   "metadata": {
    "collapsed": false
   },
   "outputs": [
    {
     "data": {
      "text/plain": [
       "(22, 1)"
      ]
     },
     "execution_count": 8,
     "metadata": {},
     "output_type": "execute_result"
    }
   ],
   "source": [
    "iota.shape"
   ]
  },
  {
   "cell_type": "code",
   "execution_count": 9,
   "metadata": {
    "collapsed": false
   },
   "outputs": [
    {
     "data": {
      "text/plain": [
       "(22, 1)"
      ]
     },
     "execution_count": 9,
     "metadata": {},
     "output_type": "execute_result"
    }
   ],
   "source": [
    "log_gdp60 = np.log(gdp_data[:,0]).reshape((nObs,1))\n",
    "log_gdp60.shape"
   ]
  },
  {
   "cell_type": "code",
   "execution_count": 10,
   "metadata": {
    "collapsed": false
   },
   "outputs": [],
   "source": [
    "X = np.hstack(\n",
    "                      tup = (iota, log_gdp60, expl_var)\n",
    "                    )"
   ]
  },
  {
   "cell_type": "code",
   "execution_count": 11,
   "metadata": {
    "collapsed": false
   },
   "outputs": [
    {
     "name": "stdout",
     "output_type": "stream",
     "text": [
      "[[  1.           8.15851593   1.20000005  36.          10.89999962]\n",
      " [  1.           8.68929577   0.40000001  23.39999962   8.        ]\n",
      " [  1.           8.82305908   0.5         23.39999962   9.30000019]\n",
      " [  1.           9.05380344   0.60000002  26.60000038  10.69999981]\n",
      " [  1.           8.78370285   0.69999999  36.90000153  11.5       ]\n",
      " [  1.           8.88391781   1.          26.20000076   8.89999962]\n",
      " [  1.           8.94832611   0.5         28.5          8.39999962]\n",
      " [  1.           7.72179174   0.69999999  29.29999924   7.9000001 ]\n",
      " [  1.           8.39185715   1.10000002  25.89999962  11.39999962]\n",
      " [  1.           8.49964046   0.60000002  24.89999962   7.0999999 ]\n",
      " [  1.           8.94754601   1.39999998  25.79999924  10.69999981]\n",
      " [  1.           8.97941685   0.69999999  29.10000038  10.        ]\n",
      " [  1.           7.72841597   0.60000002  22.5          5.80000019]\n",
      " [  1.           8.23376846   1.          17.70000076   8.        ]\n",
      " [  1.           8.96213531   0.40000001  24.5          7.9000001 ]\n",
      " [  1.           9.24067593   0.80000001  29.70000076   4.80000019]\n",
      " [  1.           7.72929573   2.5         20.20000076   5.5       ]\n",
      " [  1.           8.9403677    0.30000001  18.39999962   8.89999962]\n",
      " [  1.           9.23853874   2.          23.29999924  10.60000038]\n",
      " [  1.           9.42238235   1.5         21.10000038  11.89999962]\n",
      " [  1.           9.04073715   2.          31.5          9.80000019]\n",
      " [  1.           9.16146564   1.70000005  22.5         11.89999962]]\n"
     ]
    }
   ],
   "source": [
    "print(X)"
   ]
  },
  {
   "cell_type": "markdown",
   "metadata": {},
   "source": [
    "## Matrix Algebra"
   ]
  },
  {
   "cell_type": "code",
   "execution_count": 12,
   "metadata": {
    "collapsed": true
   },
   "outputs": [],
   "source": [
    "# matrix multiplication\n",
    "XX = X.T @ X"
   ]
  },
  {
   "cell_type": "code",
   "execution_count": 13,
   "metadata": {
    "collapsed": true
   },
   "outputs": [],
   "source": [
    "XX_2 = (X.T).dot(X)"
   ]
  },
  {
   "cell_type": "code",
   "execution_count": 16,
   "metadata": {
    "collapsed": false
   },
   "outputs": [
    {
     "data": {
      "text/plain": [
       "True"
      ]
     },
     "execution_count": 16,
     "metadata": {},
     "output_type": "execute_result"
    }
   ],
   "source": [
    "np.array_equal(XX, XX_2)"
   ]
  },
  {
   "cell_type": "code",
   "execution_count": 17,
   "metadata": {
    "collapsed": false
   },
   "outputs": [
    {
     "data": {
      "text/plain": [
       "array([[ True,  True,  True,  True,  True],\n",
       "       [ True,  True,  True,  True,  True],\n",
       "       [ True,  True,  True,  True,  True],\n",
       "       [ True,  True,  True,  True,  True],\n",
       "       [ True,  True,  True,  True,  True]], dtype=bool)"
      ]
     },
     "execution_count": 17,
     "metadata": {},
     "output_type": "execute_result"
    }
   ],
   "source": [
    "XX == XX_2"
   ]
  },
  {
   "cell_type": "code",
   "execution_count": 20,
   "metadata": {
    "collapsed": false
   },
   "outputs": [
    {
     "name": "stdout",
     "output_type": "stream",
     "text": [
      "[[  1.67827326e+01  -1.87205955e+00  -2.80562374e-01  -6.07912750e-02\n",
      "    1.55817859e-01]\n",
      " [ -1.87205955e+00   2.35814178e-01   2.04860900e-02   2.13578604e-03\n",
      "   -2.83056002e-02]\n",
      " [ -2.80562374e-01   2.04860900e-02   1.38693770e-01   2.43492635e-03\n",
      "   -1.10700566e-02]\n",
      " [ -6.07912750e-02   2.13578604e-03   2.43492635e-03   2.08444957e-03\n",
      "   -1.54344685e-03]\n",
      " [  1.55817859e-01  -2.83056002e-02  -1.10700566e-02  -1.54344685e-03\n",
      "    1.55891095e-02]]\n"
     ]
    }
   ],
   "source": [
    "# inverse\n",
    "XX_inv = la.pinv2(XX)\n",
    "print(XX_inv)"
   ]
  },
  {
   "cell_type": "code",
   "execution_count": 24,
   "metadata": {
    "collapsed": false
   },
   "outputs": [
    {
     "name": "stdout",
     "output_type": "stream",
     "text": [
      "[[1 0 0 0 0]\n",
      " [0 1 0 0 0]\n",
      " [0 0 1 0 0]\n",
      " [0 0 0 1 0]\n",
      " [0 0 0 0 1]]\n"
     ]
    }
   ],
   "source": [
    "# Does (X'X)^-1 X'X = I -> don't do this\n",
    "print(np.round(XX_inv @ XX, decimals=2).astype(int))"
   ]
  },
  {
   "cell_type": "code",
   "execution_count": 31,
   "metadata": {
    "collapsed": false
   },
   "outputs": [
    {
     "data": {
      "text/plain": [
       "True"
      ]
     },
     "execution_count": 31,
     "metadata": {},
     "output_type": "execute_result"
    }
   ],
   "source": [
    "# do this\n",
    "np.allclose(XX_inv @ XX, np.eye(5), atol = 1e-8)"
   ]
  },
  {
   "cell_type": "markdown",
   "metadata": {},
   "source": [
    "## Compute the OLS estimator & VCOV Matrix"
   ]
  },
  {
   "cell_type": "code",
   "execution_count": 53,
   "metadata": {
    "collapsed": false
   },
   "outputs": [],
   "source": [
    "def compute_OLS(dependent_var, explanatory_var):\n",
    "    \"\"\"\n",
    "        Compute the OLS estimator beta_hat\n",
    "        \n",
    "        beta_hat = (X'X)^-1 X'y\n",
    "        \n",
    "        INPUTS:\n",
    "            * dependent_var: 1-D numpy array\n",
    "            * explanatory_var: 2-D numpy array\n",
    "            \n",
    "        OUTPUT:\n",
    "            * beta_hat: least-squares coefficients\n",
    "            \n",
    "        EXAMPLE: (OPTIONAL)    \n",
    "    \"\"\"\n",
    "    import numpy\n",
    "    from scipy import linalg\n",
    "    \n",
    "    # check inputs\n",
    "    assert type(dependent_var) == numpy.ndarray\n",
    "    assert type(explanatory_var) == numpy.ndarray\n",
    "    \n",
    "    # redefine variables locally\n",
    "    X = explanatory_var\n",
    "    y = dependent_var\n",
    "    \n",
    "    # \n",
    "    assert y.ndim == 1\n",
    "    assert X.ndim == 2\n",
    "    \n",
    "    # \n",
    "    X_rows, X_cols = X.shape\n",
    "    y_rows = y.size\n",
    "    \n",
    "    assert y_rows == X_rows\n",
    "    assert X_rows >= X_cols\n",
    "    \n",
    "    # compute beta_hat\n",
    "    XX = X.T.dot(X)\n",
    "    Xy = X.T.dot(y)\n",
    "    \n",
    "    beta_hat = linalg.solve(XX, Xy)\n",
    "    \n",
    "    ##\n",
    "    n_coeff = beta_hat.size\n",
    "    assert n_coeff == X_cols\n",
    "    \n",
    "    return beta_hat"
   ]
  },
  {
   "cell_type": "code",
   "execution_count": 54,
   "metadata": {
    "collapsed": false
   },
   "outputs": [
    {
     "data": {
      "text/plain": [
       "array([ 0.14793942, -0.01556042, -0.00569366,  0.00052743,  0.00091834])"
      ]
     },
     "execution_count": 54,
     "metadata": {},
     "output_type": "execute_result"
    }
   ],
   "source": [
    "compute_OLS(y,X)"
   ]
  },
  {
   "cell_type": "code",
   "execution_count": 68,
   "metadata": {
    "collapsed": true
   },
   "outputs": [],
   "source": [
    "def get_residuals(dep_var, expl_var):\n",
    "    \"\"\"\n",
    "        YOU SHOULD WRITE DOCs\n",
    "    \"\"\"\n",
    "    import numpy\n",
    "    from scipy import linalg\n",
    "    \n",
    "    assert type(dep_var) == numpy.ndarray\n",
    "    assert type(expl_var) == numpy.ndarray\n",
    "    \n",
    "    X = expl_var\n",
    "    y = dep_var \n",
    "    \n",
    "    X_rows, X_cols = X.shape\n",
    "    y_rows = y.size\n",
    "    \n",
    "    assert X_rows == y_rows\n",
    "    \n",
    "    ## get projection matrix\n",
    "    XX_inv = linalg.pinv2(X.T.dot(X))\n",
    "    P = X.dot(XX_inv).dot(X.T)\n",
    "    \n",
    "    ##\n",
    "    P_rows, P_cols = P.shape\n",
    "    assert P_rows == P_cols\n",
    "    assert X_rows == P_rows\n",
    "    \n",
    "    M = numpy.eye(P_rows) - P\n",
    "    \n",
    "    residuals = M.dot(y)\n",
    "    \n",
    "    return residuals"
   ]
  },
  {
   "cell_type": "code",
   "execution_count": 69,
   "metadata": {
    "collapsed": false
   },
   "outputs": [
    {
     "data": {
      "text/plain": [
       "array([ 0.0120704 ,  0.00218853,  0.00108566, -0.00122752, -0.00741102,\n",
       "        0.00334721, -0.00111534, -0.00199476, -0.0081714 ,  0.00061894,\n",
       "       -0.00262745,  0.00764289, -0.00378579,  0.00786582,  0.0003895 ,\n",
       "       -0.00238042, -0.00233864, -0.00269425,  0.00741865,  0.00232742,\n",
       "       -0.00297055, -0.00823786])"
      ]
     },
     "execution_count": 69,
     "metadata": {},
     "output_type": "execute_result"
    }
   ],
   "source": [
    "get_residuals(y,X)"
   ]
  },
  {
   "cell_type": "code",
   "execution_count": 71,
   "metadata": {
    "collapsed": true
   },
   "outputs": [],
   "source": [
    "def compute_sigma2(dep_var, expl_var):\n",
    "    \"\"\"\n",
    "        WRITE DOCS\n",
    "    \"\"\"\n",
    "    \n",
    "    import numpy\n",
    "    from scipy import linalg\n",
    "    \n",
    "    # type checking\n",
    "    assert type(dep_var) == numpy.ndarray\n",
    "    assert type(expl_var) == numpy.ndarray\n",
    "    \n",
    "    X = expl_var\n",
    "    y = dep_var \n",
    "    \n",
    "    X_rows, X_cols = X.shape\n",
    "    y_rows = y.size\n",
    "    \n",
    "    assert X_rows == y_rows\n",
    "    \n",
    "    # now get the residuals\n",
    "    u = get_residuals(y, X)\n",
    "    uu = u.dot(u)\n",
    "    \n",
    "    # now sigma2\n",
    "    df = X_rows - X_cols\n",
    "    sigma2 = uu / df\n",
    "    \n",
    "    assert numpy.isscalar(sigma2)\n",
    "    \n",
    "    return sigma2\n",
    "    "
   ]
  },
  {
   "cell_type": "code",
   "execution_count": 72,
   "metadata": {
    "collapsed": false
   },
   "outputs": [
    {
     "data": {
      "text/plain": [
       "3.464008691415308e-05"
      ]
     },
     "execution_count": 72,
     "metadata": {},
     "output_type": "execute_result"
    }
   ],
   "source": [
    "compute_sigma2(y,X)"
   ]
  },
  {
   "cell_type": "code",
   "execution_count": 84,
   "metadata": {
    "collapsed": true
   },
   "outputs": [],
   "source": [
    "def compute_vcov_homosk(dep_var, expl_var):\n",
    "    \"\"\"\n",
    "        WRITE DOCS\n",
    "    \"\"\"\n",
    "    \n",
    "    import numpy\n",
    "    from scipy import linalg\n",
    "    \n",
    "    # type checking\n",
    "    assert type(dep_var) == numpy.ndarray\n",
    "    assert type(expl_var) == numpy.ndarray\n",
    "    print(expl_var.shape)\n",
    "    X = expl_var\n",
    "    y = dep_var \n",
    "    print(X.shape)\n",
    "    X_rows, X_cols = X.shape\n",
    "    y_rows = y.size\n",
    "    \n",
    "    assert X_rows == y_rows\n",
    "    \n",
    "    # compute vcov matrix\n",
    "    sigma2 = compute_sigma2(y,X)\n",
    "    \n",
    "    XX = X.T.dot(X)\n",
    "    XX_inv = linalg.pinv2(XX)\n",
    "    \n",
    "    vcov_mat = sigma2 * XX_inv\n",
    "    print(vcov_mat.shape)\n",
    "    \n",
    "    # get std Errors\n",
    "    std_errors = numpy.sqrt(numpy.diag(vcov_mat))\n",
    "    \n",
    "    return [std_errors, vcov_mat]"
   ]
  },
  {
   "cell_type": "code",
   "execution_count": 85,
   "metadata": {
    "collapsed": false
   },
   "outputs": [
    {
     "name": "stdout",
     "output_type": "stream",
     "text": [
      "(22, 5)\n",
      "(22, 5)\n",
      "(5, 5)\n"
     ]
    }
   ],
   "source": [
    "std_errors, vcov = compute_vcov_homosk(y, X)"
   ]
  },
  {
   "cell_type": "code",
   "execution_count": 86,
   "metadata": {
    "collapsed": false
   },
   "outputs": [
    {
     "name": "stdout",
     "output_type": "stream",
     "text": [
      "[ 0.02411131  0.00285808  0.00219189  0.00026871  0.00073485]\n"
     ]
    }
   ],
   "source": [
    "print(std_errors)"
   ]
  },
  {
   "cell_type": "code",
   "execution_count": 76,
   "metadata": {
    "collapsed": false
   },
   "outputs": [
    {
     "data": {
      "text/plain": [
       "array([[  1.31436509e-05,  -4.47538397e-08,  -1.30151795e-06],\n",
       "       [ -4.47665052e-08,   1.07927633e-07,  -2.89801790e-07],\n",
       "       [ -1.30148157e-06,  -2.89803125e-07,   9.85303700e-07]], dtype=float32)"
      ]
     },
     "execution_count": 76,
     "metadata": {},
     "output_type": "execute_result"
    }
   ],
   "source": [
    "vcov"
   ]
  },
  {
   "cell_type": "code",
   "execution_count": 81,
   "metadata": {
    "collapsed": false
   },
   "outputs": [
    {
     "data": {
      "text/plain": [
       "(22, 5)"
      ]
     },
     "execution_count": 81,
     "metadata": {},
     "output_type": "execute_result"
    }
   ],
   "source": [
    "X.shape"
   ]
  }
 ],
 "metadata": {
  "kernelspec": {
   "display_name": "Python [Root]",
   "language": "python",
   "name": "Python [Root]"
  },
  "language_info": {
   "codemirror_mode": {
    "name": "ipython",
    "version": 3
   },
   "file_extension": ".py",
   "mimetype": "text/x-python",
   "name": "python",
   "nbconvert_exporter": "python",
   "pygments_lexer": "ipython3",
   "version": "3.5.2"
  }
 },
 "nbformat": 4,
 "nbformat_minor": 0
}

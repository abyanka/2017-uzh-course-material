{
 "cells": [
  {
   "cell_type": "markdown",
   "metadata": {},
   "source": [
    "# Generating Data\n",
    "\n"
   ]
  },
  {
   "cell_type": "code",
   "execution_count": 1,
   "metadata": {
    "collapsed": true
   },
   "outputs": [],
   "source": [
    "import numpy as np"
   ]
  },
  {
   "cell_type": "code",
   "execution_count": 2,
   "metadata": {
    "collapsed": true
   },
   "outputs": [],
   "source": [
    "np.random.seed(1234567890)"
   ]
  },
  {
   "cell_type": "code",
   "execution_count": 3,
   "metadata": {
    "collapsed": true
   },
   "outputs": [],
   "source": [
    "data_properties = { 'n_obs': 10000,\n",
    "                    'beta': np.array([0.25, 0.75])\n",
    "                    }"
   ]
  },
  {
   "cell_type": "code",
   "execution_count": 4,
   "metadata": {
    "collapsed": true
   },
   "outputs": [],
   "source": [
    "def gen_data(data_properties):\n",
    "    \"\"\"\n",
    "        WRITE DOCS\n",
    "    \"\"\"\n",
    "    import numpy\n",
    "    \n",
    "    n_obs = data_properties['n_obs']\n",
    "    beta  = data_properties['beta']\n",
    "    \n",
    "    # make explanatory variables\n",
    "    iota     = numpy.ones(n_obs).reshape(n_obs, 1)\n",
    "    expl_var = numpy.random.uniform(size=[n_obs, 1])\n",
    "    \n",
    "    X = numpy.hstack(tup = (iota, expl_var))\n",
    "    \n",
    "    # generate consumer choices\n",
    "    epsilon = numpy.random.gumbel(size = [n_obs, 2])\n",
    "    beta_tilde = numpy.hstack([numpy.zeros(beta.size).reshape(beta.size, 1), \n",
    "                             beta.reshape(beta.size,1)]) \n",
    "    \n",
    "    utility = X @ beta_tilde + epsilon\n",
    "    choice = numpy.argmax(utility, axis=1)\n",
    "    return [choice, X]\n",
    "    "
   ]
  },
  {
   "cell_type": "code",
   "execution_count": 5,
   "metadata": {
    "collapsed": false
   },
   "outputs": [],
   "source": [
    "y, X = gen_data(data_properties)"
   ]
  },
  {
   "cell_type": "code",
   "execution_count": 6,
   "metadata": {
    "collapsed": false
   },
   "outputs": [
    {
     "data": {
      "text/plain": [
       "(10000,)"
      ]
     },
     "execution_count": 6,
     "metadata": {},
     "output_type": "execute_result"
    }
   ],
   "source": [
    "y.shape"
   ]
  },
  {
   "cell_type": "code",
   "execution_count": 7,
   "metadata": {
    "collapsed": false
   },
   "outputs": [],
   "source": [
    "def calculate_choiceProb(expl_var, beta):\n",
    "    \n",
    "    from scipy.stats import logistic\n",
    "    \n",
    "    choice_prob = logistic.cdf( expl_var @ beta)\n",
    "    \n",
    "    return choice_prob"
   ]
  },
  {
   "cell_type": "code",
   "execution_count": 8,
   "metadata": {
    "collapsed": true
   },
   "outputs": [],
   "source": [
    "def log_like_i(beta, y, X):\n",
    "    \"\"\"\n",
    "        WRITE DOCS\n",
    "    \"\"\"\n",
    "    \n",
    "    choice_prob = calculate_choiceProb(X, beta)\n",
    "    \n",
    "    ll_i = np.log( (y==1)*choice_prob + (y==0)*(1-choice_prob))\n",
    "    \n",
    "    return ll_i\n",
    "    "
   ]
  },
  {
   "cell_type": "code",
   "execution_count": 9,
   "metadata": {
    "collapsed": true
   },
   "outputs": [],
   "source": [
    "def compute_log_like(beta, y, X):\n",
    "    \n",
    "    ll_i = log_like_i(beta, y, X)\n",
    "    return -(ll_i.sum())"
   ]
  },
  {
   "cell_type": "code",
   "execution_count": 10,
   "metadata": {
    "collapsed": true
   },
   "outputs": [],
   "source": [
    "from scipy import optimize as opt\n",
    "\n",
    "starting_vals = np.array([0.5,0.5])\n",
    "\n",
    "\n",
    "result = opt.minimize( compute_log_like,\n",
    "                       starting_vals,\n",
    "                       args = (y, X),\n",
    "                       method = 'L-BFGS-B',\n",
    "                       tol = 1e-10\n",
    "                        )"
   ]
  },
  {
   "cell_type": "code",
   "execution_count": 11,
   "metadata": {
    "collapsed": false
   },
   "outputs": [
    {
     "data": {
      "text/plain": [
       "      fun: 6365.1542467581203\n",
       " hess_inv: <2x2 LbfgsInvHessProduct with dtype=float64>\n",
       "      jac: array([ 0.0003638 ,  0.00027285])\n",
       "  message: b'CONVERGENCE: REL_REDUCTION_OF_F_<=_FACTR*EPSMCH'\n",
       "     nfev: 30\n",
       "      nit: 8\n",
       "   status: 0\n",
       "  success: True\n",
       "        x: array([ 0.32801893,  0.68705718])"
      ]
     },
     "execution_count": 11,
     "metadata": {},
     "output_type": "execute_result"
    }
   ],
   "source": [
    "result"
   ]
  },
  {
   "cell_type": "code",
   "execution_count": 12,
   "metadata": {
    "collapsed": false
   },
   "outputs": [
    {
     "name": "stdout",
     "output_type": "stream",
     "text": [
      "[ 0.32801893  0.68705718]\n"
     ]
    }
   ],
   "source": [
    "coeffs = result.x\n",
    "print(coeffs)"
   ]
  },
  {
   "cell_type": "code",
   "execution_count": 13,
   "metadata": {
    "collapsed": true
   },
   "outputs": [],
   "source": [
    "# get std errors\n",
    "\n",
    "from scipy import linalg as la\n",
    "import statsmodels.tools.numdiff as smt"
   ]
  },
  {
   "cell_type": "code",
   "execution_count": 14,
   "metadata": {
    "collapsed": true
   },
   "outputs": [],
   "source": [
    "hessian = smt.approx_hess3(coeffs, compute_log_like, args=(y, X))"
   ]
  },
  {
   "cell_type": "code",
   "execution_count": 15,
   "metadata": {
    "collapsed": false
   },
   "outputs": [
    {
     "data": {
      "text/plain": [
       "array([ 0.04124549,  0.07367847])"
      ]
     },
     "execution_count": 15,
     "metadata": {},
     "output_type": "execute_result"
    }
   ],
   "source": [
    "invHessian = la.pinv2(hessian)\n",
    "np.sqrt(np.diagonal(invHessian))"
   ]
  }
 ],
 "metadata": {
  "anaconda-cloud": {},
  "kernelspec": {
   "display_name": "Python [Root]",
   "language": "python",
   "name": "Python [Root]"
  },
  "language_info": {
   "codemirror_mode": {
    "name": "ipython",
    "version": 3
   },
   "file_extension": ".py",
   "mimetype": "text/x-python",
   "name": "python",
   "nbconvert_exporter": "python",
   "pygments_lexer": "ipython3",
   "version": "3.5.2"
  }
 },
 "nbformat": 4,
 "nbformat_minor": 0
}

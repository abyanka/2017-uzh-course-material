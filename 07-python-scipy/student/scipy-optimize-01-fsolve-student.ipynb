{
 "cells": [
  {
   "cell_type": "markdown",
   "metadata": {},
   "source": [
    "# A very standard optimization problem\n",
    "\n",
    "It feels like ever since I was a economics baby we saw this problem:\n",
    "\n",
    "\\begin{eqnarray}\n",
    "max \\, u(x_1, x_2) &= x_1^{\\alpha}x_2^{\\beta} \\\\\n",
    "\\text{subject to} \\\\\n",
    "&p_1 x_1 + p_2 x_2 = m\n",
    "\\end{eqnarray}\n",
    "\n",
    "So let's do this on a computer.\n",
    "\n",
    "We will solve (for now) using the first order conditions:\n",
    "\n",
    "\\begin{eqnarray}\n",
    "\\alpha x_1^{\\alpha-1} x_2^{\\beta}  - \\lambda p_1 &= 0 \\\\\n",
    "\\beta x_1^{\\alpha} x_2^{\\beta - 1}  - \\lambda p_2 &= 0 \\\\\n",
    "\\end{eqnarray}\n",
    "\n",
    "where $\\lambda$ is the Lagrange multiplier on the constraint\n",
    "\n",
    "$$\n",
    "p_1 x_1 + p_2 x_2 = m\n",
    "$$\n",
    "\n",
    "Let's load some packages:"
   ]
  },
  {
   "cell_type": "code",
   "execution_count": 1,
   "metadata": {
    "collapsed": true
   },
   "outputs": [],
   "source": [
    "import numpy as np\n",
    "from scipy.optimize import fsolve"
   ]
  },
  {
   "cell_type": "code",
   "execution_count": null,
   "metadata": {
    "collapsed": true
   },
   "outputs": [],
   "source": [
    "# start coding here"
   ]
  },
  {
   "cell_type": "markdown",
   "metadata": {},
   "source": [
    "## Challenge\n",
    "\n",
    "Another standard problem we throw at undergrads is a cost minimization problem for a firm:\n",
    "\n",
    "\\begin{eqnarray}\n",
    "min \\, c(x_1, x_2) &= w_1 x_1 + w_2 x_2 \\\\\n",
    "\\text{subject to} \\\\\n",
    "& x_1^{\\alpha}x_2^{\\beta} = y\n",
    "\\end{eqnarray}\n",
    "\n",
    "We will solve the problem using the first order conditions:\n",
    "\n",
    "\\begin{eqnarray}\n",
    "w1  - \\lambda \\alpha x_1^{\\alpha-1} x_2^{\\beta} &= 0 \\\\\n",
    "w2  - \\lambda \\beta x_1^{\\alpha} x_2^{\\beta - 1} &= 0 \\\\\n",
    "\\end{eqnarray}\n",
    "\n",
    "where $\\lambda$ is the Lagrange multiplier on the constraint\n",
    "\n",
    "$$\n",
    "x_1^{\\alpha}x_2^{\\beta} = y\n",
    "$$\n",
    "\n",
    "Solve this problem using `fsolve` for the parametrization $(\\alpha, \\beta) = (0.4, 0.5)$, $(w_1, w_2) = (3, 1)$ and $y=45$.\n",
    "\n",
    "(Note: I haven;t solved this myself)"
   ]
  },
  {
   "cell_type": "code",
   "execution_count": null,
   "metadata": {
    "collapsed": true
   },
   "outputs": [],
   "source": [
    "# start coding here"
   ]
  }
 ],
 "metadata": {
  "anaconda-cloud": {},
  "kernelspec": {
   "display_name": "Python [Root]",
   "language": "python",
   "name": "Python [Root]"
  },
  "language_info": {
   "codemirror_mode": {
    "name": "ipython",
    "version": 3
   },
   "file_extension": ".py",
   "mimetype": "text/x-python",
   "name": "python",
   "nbconvert_exporter": "python",
   "pygments_lexer": "ipython3",
   "version": "3.5.2"
  }
 },
 "nbformat": 4,
 "nbformat_minor": 0
}

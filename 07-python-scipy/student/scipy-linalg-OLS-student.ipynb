{
 "cells": [
  {
   "cell_type": "markdown",
   "metadata": {},
   "source": [
    "## Hard-Coding the OLS estimator with NumPy and SciPy\n",
    "\n",
    "Now we have some familarity with NumPy and SciPy, let's look at some examples of using them in practice.\n",
    "\n",
    "The first one will be probably my 'favourite' example - in my 4th year undergrad metrics class we computed OLS by hand in MATLAB using the dataset from Mankiw, Romer and Weil. We will do this in Python. "
   ]
  },
  {
   "cell_type": "code",
   "execution_count": 1,
   "metadata": {
    "collapsed": true
   },
   "outputs": [],
   "source": [
    "import numpy as np\n",
    "import pandas as pd\n",
    "from scipy import linalg as la"
   ]
  },
  {
   "cell_type": "markdown",
   "metadata": {},
   "source": [
    "## Import the data\n",
    "\n",
    "The data are in STATA native format, so we import with Pandas (we discuss this whole thing later)"
   ]
  },
  {
   "cell_type": "code",
   "execution_count": 2,
   "metadata": {
    "collapsed": false
   },
   "outputs": [
    {
     "data": {
      "text/html": [
       "<div>\n",
       "<table border=\"1\" class=\"dataframe\">\n",
       "  <thead>\n",
       "    <tr style=\"text-align: right;\">\n",
       "      <th></th>\n",
       "      <th>c_index</th>\n",
       "      <th>c_name</th>\n",
       "      <th>c_code</th>\n",
       "      <th>cont</th>\n",
       "      <th>nonoil</th>\n",
       "      <th>inter</th>\n",
       "      <th>oecd</th>\n",
       "      <th>gdp60</th>\n",
       "      <th>gdp85</th>\n",
       "      <th>popgrowth</th>\n",
       "      <th>igdp</th>\n",
       "      <th>school</th>\n",
       "    </tr>\n",
       "  </thead>\n",
       "  <tbody>\n",
       "    <tr>\n",
       "      <th>0</th>\n",
       "      <td>1</td>\n",
       "      <td>Algeria</td>\n",
       "      <td>DZA</td>\n",
       "      <td>Africa</td>\n",
       "      <td>Non-oil</td>\n",
       "      <td>Intermediate Sample</td>\n",
       "      <td>Non-OECD</td>\n",
       "      <td>2485.0</td>\n",
       "      <td>4371.0</td>\n",
       "      <td>2.6</td>\n",
       "      <td>24.100000</td>\n",
       "      <td>4.5</td>\n",
       "    </tr>\n",
       "    <tr>\n",
       "      <th>1</th>\n",
       "      <td>2</td>\n",
       "      <td>Angola</td>\n",
       "      <td>AGO</td>\n",
       "      <td>Africa</td>\n",
       "      <td>Non-oil</td>\n",
       "      <td>Not intermediate sample</td>\n",
       "      <td>Non-OECD</td>\n",
       "      <td>1588.0</td>\n",
       "      <td>1171.0</td>\n",
       "      <td>2.1</td>\n",
       "      <td>5.800000</td>\n",
       "      <td>1.8</td>\n",
       "    </tr>\n",
       "    <tr>\n",
       "      <th>2</th>\n",
       "      <td>3</td>\n",
       "      <td>Benin</td>\n",
       "      <td>BEN</td>\n",
       "      <td>Africa</td>\n",
       "      <td>Non-oil</td>\n",
       "      <td>Not intermediate sample</td>\n",
       "      <td>Non-OECD</td>\n",
       "      <td>1116.0</td>\n",
       "      <td>1071.0</td>\n",
       "      <td>2.4</td>\n",
       "      <td>10.800000</td>\n",
       "      <td>1.8</td>\n",
       "    </tr>\n",
       "    <tr>\n",
       "      <th>3</th>\n",
       "      <td>4</td>\n",
       "      <td>Botswana</td>\n",
       "      <td>BWA</td>\n",
       "      <td>Africa</td>\n",
       "      <td>Non-oil</td>\n",
       "      <td>Intermediate Sample</td>\n",
       "      <td>Non-OECD</td>\n",
       "      <td>959.0</td>\n",
       "      <td>3671.0</td>\n",
       "      <td>3.2</td>\n",
       "      <td>28.299999</td>\n",
       "      <td>2.9</td>\n",
       "    </tr>\n",
       "    <tr>\n",
       "      <th>4</th>\n",
       "      <td>5</td>\n",
       "      <td>Burkina Faso</td>\n",
       "      <td>BFA</td>\n",
       "      <td>Africa</td>\n",
       "      <td>Non-oil</td>\n",
       "      <td>Not intermediate sample</td>\n",
       "      <td>Non-OECD</td>\n",
       "      <td>529.0</td>\n",
       "      <td>857.0</td>\n",
       "      <td>0.9</td>\n",
       "      <td>12.700000</td>\n",
       "      <td>0.4</td>\n",
       "    </tr>\n",
       "  </tbody>\n",
       "</table>\n",
       "</div>"
      ],
      "text/plain": [
       "   c_index        c_name c_code    cont   nonoil                    inter  \\\n",
       "0        1       Algeria    DZA  Africa  Non-oil      Intermediate Sample   \n",
       "1        2        Angola    AGO  Africa  Non-oil  Not intermediate sample   \n",
       "2        3         Benin    BEN  Africa  Non-oil  Not intermediate sample   \n",
       "3        4      Botswana    BWA  Africa  Non-oil      Intermediate Sample   \n",
       "4        5  Burkina Faso    BFA  Africa  Non-oil  Not intermediate sample   \n",
       "\n",
       "       oecd   gdp60   gdp85  popgrowth       igdp  school  \n",
       "0  Non-OECD  2485.0  4371.0        2.6  24.100000     4.5  \n",
       "1  Non-OECD  1588.0  1171.0        2.1   5.800000     1.8  \n",
       "2  Non-OECD  1116.0  1071.0        2.4  10.800000     1.8  \n",
       "3  Non-OECD   959.0  3671.0        3.2  28.299999     2.9  \n",
       "4  Non-OECD   529.0   857.0        0.9  12.700000     0.4  "
      ]
     },
     "execution_count": 2,
     "metadata": {},
     "output_type": "execute_result"
    }
   ],
   "source": [
    "data = pd.read_stata('../data/mrw1992.dta')\n",
    "data.head()"
   ]
  },
  {
   "cell_type": "markdown",
   "metadata": {},
   "source": [
    "Question: Why couldnt we import that as a NumPy array?"
   ]
  },
  {
   "cell_type": "code",
   "execution_count": 3,
   "metadata": {
    "collapsed": false
   },
   "outputs": [
    {
     "data": {
      "text/html": [
       "<div>\n",
       "<table border=\"1\" class=\"dataframe\">\n",
       "  <thead>\n",
       "    <tr style=\"text-align: right;\">\n",
       "      <th></th>\n",
       "      <th>c_index</th>\n",
       "      <th>c_name</th>\n",
       "      <th>c_code</th>\n",
       "      <th>cont</th>\n",
       "      <th>nonoil</th>\n",
       "      <th>inter</th>\n",
       "      <th>oecd</th>\n",
       "      <th>gdp60</th>\n",
       "      <th>gdp85</th>\n",
       "      <th>popgrowth</th>\n",
       "      <th>igdp</th>\n",
       "      <th>school</th>\n",
       "    </tr>\n",
       "  </thead>\n",
       "  <tbody>\n",
       "    <tr>\n",
       "      <th>52</th>\n",
       "      <td>53</td>\n",
       "      <td>Japan</td>\n",
       "      <td>JPN</td>\n",
       "      <td>Asia</td>\n",
       "      <td>Non-oil</td>\n",
       "      <td>Intermediate Sample</td>\n",
       "      <td>OECD</td>\n",
       "      <td>3493.0</td>\n",
       "      <td>13893.0</td>\n",
       "      <td>1.2</td>\n",
       "      <td>36.000000</td>\n",
       "      <td>10.9</td>\n",
       "    </tr>\n",
       "    <tr>\n",
       "      <th>69</th>\n",
       "      <td>70</td>\n",
       "      <td>Austria</td>\n",
       "      <td>AUT</td>\n",
       "      <td>Europe</td>\n",
       "      <td>Non-oil</td>\n",
       "      <td>Intermediate Sample</td>\n",
       "      <td>OECD</td>\n",
       "      <td>5939.0</td>\n",
       "      <td>13327.0</td>\n",
       "      <td>0.4</td>\n",
       "      <td>23.400000</td>\n",
       "      <td>8.0</td>\n",
       "    </tr>\n",
       "    <tr>\n",
       "      <th>70</th>\n",
       "      <td>71</td>\n",
       "      <td>Belgium</td>\n",
       "      <td>BEL</td>\n",
       "      <td>Europe</td>\n",
       "      <td>Non-oil</td>\n",
       "      <td>Intermediate Sample</td>\n",
       "      <td>OECD</td>\n",
       "      <td>6789.0</td>\n",
       "      <td>14290.0</td>\n",
       "      <td>0.5</td>\n",
       "      <td>23.400000</td>\n",
       "      <td>9.3</td>\n",
       "    </tr>\n",
       "    <tr>\n",
       "      <th>72</th>\n",
       "      <td>73</td>\n",
       "      <td>Denmark</td>\n",
       "      <td>DNK</td>\n",
       "      <td>Europe</td>\n",
       "      <td>Non-oil</td>\n",
       "      <td>Intermediate Sample</td>\n",
       "      <td>OECD</td>\n",
       "      <td>8551.0</td>\n",
       "      <td>16491.0</td>\n",
       "      <td>0.6</td>\n",
       "      <td>26.600000</td>\n",
       "      <td>10.7</td>\n",
       "    </tr>\n",
       "    <tr>\n",
       "      <th>73</th>\n",
       "      <td>74</td>\n",
       "      <td>Finland</td>\n",
       "      <td>FIN</td>\n",
       "      <td>Europe</td>\n",
       "      <td>Non-oil</td>\n",
       "      <td>Intermediate Sample</td>\n",
       "      <td>OECD</td>\n",
       "      <td>6527.0</td>\n",
       "      <td>13779.0</td>\n",
       "      <td>0.7</td>\n",
       "      <td>36.900002</td>\n",
       "      <td>11.5</td>\n",
       "    </tr>\n",
       "  </tbody>\n",
       "</table>\n",
       "</div>"
      ],
      "text/plain": [
       "    c_index   c_name c_code    cont   nonoil                inter  oecd  \\\n",
       "52       53    Japan    JPN    Asia  Non-oil  Intermediate Sample  OECD   \n",
       "69       70  Austria    AUT  Europe  Non-oil  Intermediate Sample  OECD   \n",
       "70       71  Belgium    BEL  Europe  Non-oil  Intermediate Sample  OECD   \n",
       "72       73  Denmark    DNK  Europe  Non-oil  Intermediate Sample  OECD   \n",
       "73       74  Finland    FIN  Europe  Non-oil  Intermediate Sample  OECD   \n",
       "\n",
       "     gdp60    gdp85  popgrowth       igdp  school  \n",
       "52  3493.0  13893.0        1.2  36.000000    10.9  \n",
       "69  5939.0  13327.0        0.4  23.400000     8.0  \n",
       "70  6789.0  14290.0        0.5  23.400000     9.3  \n",
       "72  8551.0  16491.0        0.6  26.600000    10.7  \n",
       "73  6527.0  13779.0        0.7  36.900002    11.5  "
      ]
     },
     "execution_count": 3,
     "metadata": {},
     "output_type": "execute_result"
    }
   ],
   "source": [
    "# subset OECD data\n",
    "oecd = data[data['oecd']=='OECD']\n",
    "oecd.head()"
   ]
  },
  {
   "cell_type": "markdown",
   "metadata": {},
   "source": [
    "Now we want to generate some dependent and independent variables...\n",
    "\n",
    "* MRW use 'growth' as the dependent variable\n",
    "* Independent variables are 'popgrowth', 'igdp', 'school' and 'lngdp60'"
   ]
  },
  {
   "cell_type": "code",
   "execution_count": null,
   "metadata": {
    "collapsed": true
   },
   "outputs": [],
   "source": []
  }
 ],
 "metadata": {
  "kernelspec": {
   "display_name": "Python [Root]",
   "language": "python",
   "name": "Python [Root]"
  },
  "language_info": {
   "codemirror_mode": {
    "name": "ipython",
    "version": 3
   },
   "file_extension": ".py",
   "mimetype": "text/x-python",
   "name": "python",
   "nbconvert_exporter": "python",
   "pygments_lexer": "ipython3",
   "version": "3.5.2"
  }
 },
 "nbformat": 4,
 "nbformat_minor": 0
}
